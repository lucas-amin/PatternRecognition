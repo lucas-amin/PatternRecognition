{
  "nbformat": 4,
  "nbformat_minor": 0,
  "metadata": {
    "kernelspec": {
      "display_name": "Python 3",
      "language": "python",
      "name": "python3"
    },
    "language_info": {
      "codemirror_mode": {
        "name": "ipython",
        "version": 3
      },
      "file_extension": ".py",
      "mimetype": "text/x-python",
      "name": "python",
      "nbconvert_exporter": "python",
      "pygments_lexer": "ipython3",
      "version": "3.7.1"
    },
    "colab": {
      "name": "Entrega.ipynb",
      "provenance": []
    }
  },
  "cells": [
    {
      "cell_type": "markdown",
      "metadata": {
        "id": "dHdzz2hZs0Zb",
        "colab_type": "text"
      },
      "source": [
        "# Projeto 1\n",
        "\n",
        "Alunos:\n",
        "\n",
        "- Lucas Amin\n",
        "- Rafael Toyomoto\n",
        "- Willian Henrique\n",
        "\n",
        "## Imports"
      ]
    },
    {
      "cell_type": "code",
      "metadata": {
        "id": "Sx841ttUs0Zf",
        "colab_type": "code",
        "colab": {}
      },
      "source": [
        "import math\n",
        "import numpy as np\n",
        "import pandas as pd\n",
        "import seaborn as sns"
      ],
      "execution_count": 0,
      "outputs": []
    },
    {
      "cell_type": "code",
      "metadata": {
        "id": "nCj-iv4es0Zj",
        "colab_type": "code",
        "colab": {}
      },
      "source": [
        "import matplotlib as mpl\n",
        "import matplotlib.pyplot as plt\n",
        "import matplotlib.pylab as pylab"
      ],
      "execution_count": 0,
      "outputs": []
    },
    {
      "cell_type": "code",
      "metadata": {
        "id": "Lq3Yb9S8s0Zn",
        "colab_type": "code",
        "colab": {}
      },
      "source": [
        "from sklearn import tree\n",
        "from sklearn.model_selection import train_test_split"
      ],
      "execution_count": 0,
      "outputs": []
    },
    {
      "cell_type": "markdown",
      "metadata": {
        "id": "xQxcHTJfs0Zr",
        "colab_type": "text"
      },
      "source": [
        "## Functions"
      ]
    },
    {
      "cell_type": "code",
      "metadata": {
        "id": "zhaxRQ0os0Zs",
        "colab_type": "code",
        "colab": {}
      },
      "source": [
        "def plot_correlation_map( df ):\n",
        "    corr = df.corr()\n",
        "    _ , ax = plt.subplots(figsize = (12,10))\n",
        "    cmap = sns.diverging_palette(220,10, as_cmap=True)\n",
        "    _ = sns.heatmap(\n",
        "        corr, \n",
        "        cmap = cmap,\n",
        "        square=True, \n",
        "        cbar_kws={'shrink':.9}, \n",
        "        ax=ax, \n",
        "        annot=True, \n",
        "        annot_kws={'fontsize':12})"
      ],
      "execution_count": 0,
      "outputs": []
    },
    {
      "cell_type": "code",
      "metadata": {
        "id": "18YDCI-Ds0Zw",
        "colab_type": "code",
        "colab": {}
      },
      "source": [
        "def plot_categories( df , cat , target , **kwargs ):\n",
        "    row = kwargs.get('row', None)\n",
        "    col = kwargs.get('col', None)\n",
        "    facet = sns.FacetGrid(df,row = row, col=col)\n",
        "    facet.map(sns.barplot, cat, target)\n",
        "    facet.add_legend()"
      ],
      "execution_count": 0,
      "outputs": []
    },
    {
      "cell_type": "code",
      "metadata": {
        "id": "cX7H3snfs0Zz",
        "colab_type": "code",
        "colab": {}
      },
      "source": [
        "def plot_distribution( df , var , target , **kwargs ):\n",
        "    row = kwargs.get( 'row' , None )\n",
        "    col = kwargs.get( 'col' , None )\n",
        "    facet = sns.FacetGrid( df , hue=target , aspect=4 , row = row , col = col )\n",
        "    facet.map( sns.kdeplot , var , shade= True )\n",
        "    facet.set( xlim=( 0 , df[ var ].max() ) )\n",
        "    facet.add_legend()"
      ],
      "execution_count": 0,
      "outputs": []
    },
    {
      "cell_type": "markdown",
      "metadata": {
        "id": "ExBzqetos0Z3",
        "colab_type": "text"
      },
      "source": [
        "## Dataset\n",
        "Carregando o dataset do titanic e observando os dados"
      ]
    },
    {
      "cell_type": "code",
      "metadata": {
        "id": "T2qiRv5bs0Z4",
        "colab_type": "code",
        "colab": {}
      },
      "source": [
        "#Adaptado de https://www.kaggle.com/sachinkulkarni/titanic/an-interactive-data-science-tutorial\n",
        "# Caso esteja rodando no Colab\n",
        "#from google.colab import files\n",
        "#uploaded = files.upload()\n",
        "df_train = pd.read_csv('train.csv')\n",
        "df_test  = pd.read_csv('test.csv')\n",
        "df_full  = pd.concat([df_train, df_test], sort=True, ignore_index=True)"
      ],
      "execution_count": 0,
      "outputs": []
    },
    {
      "cell_type": "code",
      "metadata": {
        "id": "4i9mhb6js0Z8",
        "colab_type": "code",
        "colab": {
          "base_uri": "https://localhost:8080/",
          "height": 204
        },
        "outputId": "68c7a902-f76d-472b-8e55-52347a6508b9"
      },
      "source": [
        "df_train.head()"
      ],
      "execution_count": 72,
      "outputs": [
        {
          "output_type": "execute_result",
          "data": {
            "text/html": [
              "<div>\n",
              "<style scoped>\n",
              "    .dataframe tbody tr th:only-of-type {\n",
              "        vertical-align: middle;\n",
              "    }\n",
              "\n",
              "    .dataframe tbody tr th {\n",
              "        vertical-align: top;\n",
              "    }\n",
              "\n",
              "    .dataframe thead th {\n",
              "        text-align: right;\n",
              "    }\n",
              "</style>\n",
              "<table border=\"1\" class=\"dataframe\">\n",
              "  <thead>\n",
              "    <tr style=\"text-align: right;\">\n",
              "      <th></th>\n",
              "      <th>PassengerId</th>\n",
              "      <th>Survived</th>\n",
              "      <th>Pclass</th>\n",
              "      <th>Name</th>\n",
              "      <th>Sex</th>\n",
              "      <th>Age</th>\n",
              "      <th>SibSp</th>\n",
              "      <th>Parch</th>\n",
              "      <th>Ticket</th>\n",
              "      <th>Fare</th>\n",
              "      <th>Cabin</th>\n",
              "      <th>Embarked</th>\n",
              "    </tr>\n",
              "  </thead>\n",
              "  <tbody>\n",
              "    <tr>\n",
              "      <th>0</th>\n",
              "      <td>1</td>\n",
              "      <td>0</td>\n",
              "      <td>3</td>\n",
              "      <td>Braund, Mr. Owen Harris</td>\n",
              "      <td>male</td>\n",
              "      <td>22.0</td>\n",
              "      <td>1</td>\n",
              "      <td>0</td>\n",
              "      <td>A/5 21171</td>\n",
              "      <td>7.2500</td>\n",
              "      <td>NaN</td>\n",
              "      <td>S</td>\n",
              "    </tr>\n",
              "    <tr>\n",
              "      <th>1</th>\n",
              "      <td>2</td>\n",
              "      <td>1</td>\n",
              "      <td>1</td>\n",
              "      <td>Cumings, Mrs. John Bradley (Florence Briggs Th...</td>\n",
              "      <td>female</td>\n",
              "      <td>38.0</td>\n",
              "      <td>1</td>\n",
              "      <td>0</td>\n",
              "      <td>PC 17599</td>\n",
              "      <td>71.2833</td>\n",
              "      <td>C85</td>\n",
              "      <td>C</td>\n",
              "    </tr>\n",
              "    <tr>\n",
              "      <th>2</th>\n",
              "      <td>3</td>\n",
              "      <td>1</td>\n",
              "      <td>3</td>\n",
              "      <td>Heikkinen, Miss. Laina</td>\n",
              "      <td>female</td>\n",
              "      <td>26.0</td>\n",
              "      <td>0</td>\n",
              "      <td>0</td>\n",
              "      <td>STON/O2. 3101282</td>\n",
              "      <td>7.9250</td>\n",
              "      <td>NaN</td>\n",
              "      <td>S</td>\n",
              "    </tr>\n",
              "    <tr>\n",
              "      <th>3</th>\n",
              "      <td>4</td>\n",
              "      <td>1</td>\n",
              "      <td>1</td>\n",
              "      <td>Futrelle, Mrs. Jacques Heath (Lily May Peel)</td>\n",
              "      <td>female</td>\n",
              "      <td>35.0</td>\n",
              "      <td>1</td>\n",
              "      <td>0</td>\n",
              "      <td>113803</td>\n",
              "      <td>53.1000</td>\n",
              "      <td>C123</td>\n",
              "      <td>S</td>\n",
              "    </tr>\n",
              "    <tr>\n",
              "      <th>4</th>\n",
              "      <td>5</td>\n",
              "      <td>0</td>\n",
              "      <td>3</td>\n",
              "      <td>Allen, Mr. William Henry</td>\n",
              "      <td>male</td>\n",
              "      <td>35.0</td>\n",
              "      <td>0</td>\n",
              "      <td>0</td>\n",
              "      <td>373450</td>\n",
              "      <td>8.0500</td>\n",
              "      <td>NaN</td>\n",
              "      <td>S</td>\n",
              "    </tr>\n",
              "  </tbody>\n",
              "</table>\n",
              "</div>"
            ],
            "text/plain": [
              "   PassengerId  Survived  Pclass  ...     Fare Cabin  Embarked\n",
              "0            1         0       3  ...   7.2500   NaN         S\n",
              "1            2         1       1  ...  71.2833   C85         C\n",
              "2            3         1       3  ...   7.9250   NaN         S\n",
              "3            4         1       1  ...  53.1000  C123         S\n",
              "4            5         0       3  ...   8.0500   NaN         S\n",
              "\n",
              "[5 rows x 12 columns]"
            ]
          },
          "metadata": {
            "tags": []
          },
          "execution_count": 72
        }
      ]
    },
    {
      "cell_type": "code",
      "metadata": {
        "id": "YE4ebsm_s0aB",
        "colab_type": "code",
        "colab": {
          "base_uri": "https://localhost:8080/",
          "height": 204
        },
        "outputId": "87bc5181-83fd-40c8-fd93-62b24f3e58e5"
      },
      "source": [
        "df_test.head()"
      ],
      "execution_count": 73,
      "outputs": [
        {
          "output_type": "execute_result",
          "data": {
            "text/html": [
              "<div>\n",
              "<style scoped>\n",
              "    .dataframe tbody tr th:only-of-type {\n",
              "        vertical-align: middle;\n",
              "    }\n",
              "\n",
              "    .dataframe tbody tr th {\n",
              "        vertical-align: top;\n",
              "    }\n",
              "\n",
              "    .dataframe thead th {\n",
              "        text-align: right;\n",
              "    }\n",
              "</style>\n",
              "<table border=\"1\" class=\"dataframe\">\n",
              "  <thead>\n",
              "    <tr style=\"text-align: right;\">\n",
              "      <th></th>\n",
              "      <th>PassengerId</th>\n",
              "      <th>Pclass</th>\n",
              "      <th>Name</th>\n",
              "      <th>Sex</th>\n",
              "      <th>Age</th>\n",
              "      <th>SibSp</th>\n",
              "      <th>Parch</th>\n",
              "      <th>Ticket</th>\n",
              "      <th>Fare</th>\n",
              "      <th>Cabin</th>\n",
              "      <th>Embarked</th>\n",
              "    </tr>\n",
              "  </thead>\n",
              "  <tbody>\n",
              "    <tr>\n",
              "      <th>0</th>\n",
              "      <td>892</td>\n",
              "      <td>3</td>\n",
              "      <td>Kelly, Mr. James</td>\n",
              "      <td>male</td>\n",
              "      <td>34.5</td>\n",
              "      <td>0</td>\n",
              "      <td>0</td>\n",
              "      <td>330911</td>\n",
              "      <td>7.8292</td>\n",
              "      <td>NaN</td>\n",
              "      <td>Q</td>\n",
              "    </tr>\n",
              "    <tr>\n",
              "      <th>1</th>\n",
              "      <td>893</td>\n",
              "      <td>3</td>\n",
              "      <td>Wilkes, Mrs. James (Ellen Needs)</td>\n",
              "      <td>female</td>\n",
              "      <td>47.0</td>\n",
              "      <td>1</td>\n",
              "      <td>0</td>\n",
              "      <td>363272</td>\n",
              "      <td>7.0000</td>\n",
              "      <td>NaN</td>\n",
              "      <td>S</td>\n",
              "    </tr>\n",
              "    <tr>\n",
              "      <th>2</th>\n",
              "      <td>894</td>\n",
              "      <td>2</td>\n",
              "      <td>Myles, Mr. Thomas Francis</td>\n",
              "      <td>male</td>\n",
              "      <td>62.0</td>\n",
              "      <td>0</td>\n",
              "      <td>0</td>\n",
              "      <td>240276</td>\n",
              "      <td>9.6875</td>\n",
              "      <td>NaN</td>\n",
              "      <td>Q</td>\n",
              "    </tr>\n",
              "    <tr>\n",
              "      <th>3</th>\n",
              "      <td>895</td>\n",
              "      <td>3</td>\n",
              "      <td>Wirz, Mr. Albert</td>\n",
              "      <td>male</td>\n",
              "      <td>27.0</td>\n",
              "      <td>0</td>\n",
              "      <td>0</td>\n",
              "      <td>315154</td>\n",
              "      <td>8.6625</td>\n",
              "      <td>NaN</td>\n",
              "      <td>S</td>\n",
              "    </tr>\n",
              "    <tr>\n",
              "      <th>4</th>\n",
              "      <td>896</td>\n",
              "      <td>3</td>\n",
              "      <td>Hirvonen, Mrs. Alexander (Helga E Lindqvist)</td>\n",
              "      <td>female</td>\n",
              "      <td>22.0</td>\n",
              "      <td>1</td>\n",
              "      <td>1</td>\n",
              "      <td>3101298</td>\n",
              "      <td>12.2875</td>\n",
              "      <td>NaN</td>\n",
              "      <td>S</td>\n",
              "    </tr>\n",
              "  </tbody>\n",
              "</table>\n",
              "</div>"
            ],
            "text/plain": [
              "   PassengerId  Pclass  ... Cabin Embarked\n",
              "0          892       3  ...   NaN        Q\n",
              "1          893       3  ...   NaN        S\n",
              "2          894       2  ...   NaN        Q\n",
              "3          895       3  ...   NaN        S\n",
              "4          896       3  ...   NaN        S\n",
              "\n",
              "[5 rows x 11 columns]"
            ]
          },
          "metadata": {
            "tags": []
          },
          "execution_count": 73
        }
      ]
    },
    {
      "cell_type": "markdown",
      "metadata": {
        "id": "7ZkqTPM9s0aF",
        "colab_type": "text"
      },
      "source": [
        "## Avaliar integridade"
      ]
    },
    {
      "cell_type": "markdown",
      "metadata": {
        "id": "pen8ZfQJs0aG",
        "colab_type": "text"
      },
      "source": [
        "### Dataset de treino"
      ]
    },
    {
      "cell_type": "code",
      "metadata": {
        "id": "Fs-kLSZVs0aI",
        "colab_type": "code",
        "colab": {
          "base_uri": "https://localhost:8080/",
          "height": 586
        },
        "outputId": "ed031e4f-e0fe-48db-cff0-12ae28845a88"
      },
      "source": [
        "df_train.info()\n",
        "df_train.describe()"
      ],
      "execution_count": 74,
      "outputs": [
        {
          "output_type": "stream",
          "text": [
            "<class 'pandas.core.frame.DataFrame'>\n",
            "RangeIndex: 891 entries, 0 to 890\n",
            "Data columns (total 12 columns):\n",
            "PassengerId    891 non-null int64\n",
            "Survived       891 non-null int64\n",
            "Pclass         891 non-null int64\n",
            "Name           891 non-null object\n",
            "Sex            891 non-null object\n",
            "Age            714 non-null float64\n",
            "SibSp          891 non-null int64\n",
            "Parch          891 non-null int64\n",
            "Ticket         891 non-null object\n",
            "Fare           891 non-null float64\n",
            "Cabin          204 non-null object\n",
            "Embarked       889 non-null object\n",
            "dtypes: float64(2), int64(5), object(5)\n",
            "memory usage: 83.6+ KB\n"
          ],
          "name": "stdout"
        },
        {
          "output_type": "execute_result",
          "data": {
            "text/html": [
              "<div>\n",
              "<style scoped>\n",
              "    .dataframe tbody tr th:only-of-type {\n",
              "        vertical-align: middle;\n",
              "    }\n",
              "\n",
              "    .dataframe tbody tr th {\n",
              "        vertical-align: top;\n",
              "    }\n",
              "\n",
              "    .dataframe thead th {\n",
              "        text-align: right;\n",
              "    }\n",
              "</style>\n",
              "<table border=\"1\" class=\"dataframe\">\n",
              "  <thead>\n",
              "    <tr style=\"text-align: right;\">\n",
              "      <th></th>\n",
              "      <th>PassengerId</th>\n",
              "      <th>Survived</th>\n",
              "      <th>Pclass</th>\n",
              "      <th>Age</th>\n",
              "      <th>SibSp</th>\n",
              "      <th>Parch</th>\n",
              "      <th>Fare</th>\n",
              "    </tr>\n",
              "  </thead>\n",
              "  <tbody>\n",
              "    <tr>\n",
              "      <th>count</th>\n",
              "      <td>891.000000</td>\n",
              "      <td>891.000000</td>\n",
              "      <td>891.000000</td>\n",
              "      <td>714.000000</td>\n",
              "      <td>891.000000</td>\n",
              "      <td>891.000000</td>\n",
              "      <td>891.000000</td>\n",
              "    </tr>\n",
              "    <tr>\n",
              "      <th>mean</th>\n",
              "      <td>446.000000</td>\n",
              "      <td>0.383838</td>\n",
              "      <td>2.308642</td>\n",
              "      <td>29.699118</td>\n",
              "      <td>0.523008</td>\n",
              "      <td>0.381594</td>\n",
              "      <td>32.204208</td>\n",
              "    </tr>\n",
              "    <tr>\n",
              "      <th>std</th>\n",
              "      <td>257.353842</td>\n",
              "      <td>0.486592</td>\n",
              "      <td>0.836071</td>\n",
              "      <td>14.526497</td>\n",
              "      <td>1.102743</td>\n",
              "      <td>0.806057</td>\n",
              "      <td>49.693429</td>\n",
              "    </tr>\n",
              "    <tr>\n",
              "      <th>min</th>\n",
              "      <td>1.000000</td>\n",
              "      <td>0.000000</td>\n",
              "      <td>1.000000</td>\n",
              "      <td>0.420000</td>\n",
              "      <td>0.000000</td>\n",
              "      <td>0.000000</td>\n",
              "      <td>0.000000</td>\n",
              "    </tr>\n",
              "    <tr>\n",
              "      <th>25%</th>\n",
              "      <td>223.500000</td>\n",
              "      <td>0.000000</td>\n",
              "      <td>2.000000</td>\n",
              "      <td>20.125000</td>\n",
              "      <td>0.000000</td>\n",
              "      <td>0.000000</td>\n",
              "      <td>7.910400</td>\n",
              "    </tr>\n",
              "    <tr>\n",
              "      <th>50%</th>\n",
              "      <td>446.000000</td>\n",
              "      <td>0.000000</td>\n",
              "      <td>3.000000</td>\n",
              "      <td>28.000000</td>\n",
              "      <td>0.000000</td>\n",
              "      <td>0.000000</td>\n",
              "      <td>14.454200</td>\n",
              "    </tr>\n",
              "    <tr>\n",
              "      <th>75%</th>\n",
              "      <td>668.500000</td>\n",
              "      <td>1.000000</td>\n",
              "      <td>3.000000</td>\n",
              "      <td>38.000000</td>\n",
              "      <td>1.000000</td>\n",
              "      <td>0.000000</td>\n",
              "      <td>31.000000</td>\n",
              "    </tr>\n",
              "    <tr>\n",
              "      <th>max</th>\n",
              "      <td>891.000000</td>\n",
              "      <td>1.000000</td>\n",
              "      <td>3.000000</td>\n",
              "      <td>80.000000</td>\n",
              "      <td>8.000000</td>\n",
              "      <td>6.000000</td>\n",
              "      <td>512.329200</td>\n",
              "    </tr>\n",
              "  </tbody>\n",
              "</table>\n",
              "</div>"
            ],
            "text/plain": [
              "       PassengerId    Survived      Pclass  ...       SibSp       Parch        Fare\n",
              "count   891.000000  891.000000  891.000000  ...  891.000000  891.000000  891.000000\n",
              "mean    446.000000    0.383838    2.308642  ...    0.523008    0.381594   32.204208\n",
              "std     257.353842    0.486592    0.836071  ...    1.102743    0.806057   49.693429\n",
              "min       1.000000    0.000000    1.000000  ...    0.000000    0.000000    0.000000\n",
              "25%     223.500000    0.000000    2.000000  ...    0.000000    0.000000    7.910400\n",
              "50%     446.000000    0.000000    3.000000  ...    0.000000    0.000000   14.454200\n",
              "75%     668.500000    1.000000    3.000000  ...    1.000000    0.000000   31.000000\n",
              "max     891.000000    1.000000    3.000000  ...    8.000000    6.000000  512.329200\n",
              "\n",
              "[8 rows x 7 columns]"
            ]
          },
          "metadata": {
            "tags": []
          },
          "execution_count": 74
        }
      ]
    },
    {
      "cell_type": "code",
      "metadata": {
        "id": "N_DMOnCRs0aM",
        "colab_type": "code",
        "colab": {
          "base_uri": "https://localhost:8080/",
          "height": 173
        },
        "outputId": "d6e4d7fe-0079-4b8f-abb8-b277605e4b6b"
      },
      "source": [
        "df_train.describe(include=[\"O\"])"
      ],
      "execution_count": 75,
      "outputs": [
        {
          "output_type": "execute_result",
          "data": {
            "text/html": [
              "<div>\n",
              "<style scoped>\n",
              "    .dataframe tbody tr th:only-of-type {\n",
              "        vertical-align: middle;\n",
              "    }\n",
              "\n",
              "    .dataframe tbody tr th {\n",
              "        vertical-align: top;\n",
              "    }\n",
              "\n",
              "    .dataframe thead th {\n",
              "        text-align: right;\n",
              "    }\n",
              "</style>\n",
              "<table border=\"1\" class=\"dataframe\">\n",
              "  <thead>\n",
              "    <tr style=\"text-align: right;\">\n",
              "      <th></th>\n",
              "      <th>Name</th>\n",
              "      <th>Sex</th>\n",
              "      <th>Ticket</th>\n",
              "      <th>Cabin</th>\n",
              "      <th>Embarked</th>\n",
              "    </tr>\n",
              "  </thead>\n",
              "  <tbody>\n",
              "    <tr>\n",
              "      <th>count</th>\n",
              "      <td>891</td>\n",
              "      <td>891</td>\n",
              "      <td>891</td>\n",
              "      <td>204</td>\n",
              "      <td>889</td>\n",
              "    </tr>\n",
              "    <tr>\n",
              "      <th>unique</th>\n",
              "      <td>891</td>\n",
              "      <td>2</td>\n",
              "      <td>681</td>\n",
              "      <td>147</td>\n",
              "      <td>3</td>\n",
              "    </tr>\n",
              "    <tr>\n",
              "      <th>top</th>\n",
              "      <td>Gheorgheff, Mr. Stanio</td>\n",
              "      <td>male</td>\n",
              "      <td>1601</td>\n",
              "      <td>G6</td>\n",
              "      <td>S</td>\n",
              "    </tr>\n",
              "    <tr>\n",
              "      <th>freq</th>\n",
              "      <td>1</td>\n",
              "      <td>577</td>\n",
              "      <td>7</td>\n",
              "      <td>4</td>\n",
              "      <td>644</td>\n",
              "    </tr>\n",
              "  </tbody>\n",
              "</table>\n",
              "</div>"
            ],
            "text/plain": [
              "                          Name   Sex Ticket Cabin Embarked\n",
              "count                      891   891    891   204      889\n",
              "unique                     891     2    681   147        3\n",
              "top     Gheorgheff, Mr. Stanio  male   1601    G6        S\n",
              "freq                         1   577      7     4      644"
            ]
          },
          "metadata": {
            "tags": []
          },
          "execution_count": 75
        }
      ]
    },
    {
      "cell_type": "markdown",
      "metadata": {
        "id": "d0tnR0nMs0aQ",
        "colab_type": "text"
      },
      "source": [
        "**Considerações**\n",
        "\n",
        "- É possível observar problemas com os campos \"Age\", \"Cabin\" e \"Embarked\" quanto a valores nulos\n",
        "- A média de sobrevivência indica que a maioria das pessoas morreram\n",
        "- Idade mínima ser 0,42 indica problema nos valores contidos nesse campo (?)\n",
        "- Fare igual a 0 indica possível problema nesse campo (alguem entrou de graça)"
      ]
    },
    {
      "cell_type": "markdown",
      "metadata": {
        "id": "6ioQiTGEs0aR",
        "colab_type": "text"
      },
      "source": [
        "### Dataset de teste"
      ]
    },
    {
      "cell_type": "code",
      "metadata": {
        "id": "OxA-Wyo3s0aS",
        "colab_type": "code",
        "colab": {
          "base_uri": "https://localhost:8080/",
          "height": 569
        },
        "outputId": "05401d8f-bc15-4217-e243-d5c90a070281"
      },
      "source": [
        "df_test.info()\n",
        "df_test.describe()"
      ],
      "execution_count": 76,
      "outputs": [
        {
          "output_type": "stream",
          "text": [
            "<class 'pandas.core.frame.DataFrame'>\n",
            "RangeIndex: 418 entries, 0 to 417\n",
            "Data columns (total 11 columns):\n",
            "PassengerId    418 non-null int64\n",
            "Pclass         418 non-null int64\n",
            "Name           418 non-null object\n",
            "Sex            418 non-null object\n",
            "Age            332 non-null float64\n",
            "SibSp          418 non-null int64\n",
            "Parch          418 non-null int64\n",
            "Ticket         418 non-null object\n",
            "Fare           417 non-null float64\n",
            "Cabin          91 non-null object\n",
            "Embarked       418 non-null object\n",
            "dtypes: float64(2), int64(4), object(5)\n",
            "memory usage: 36.0+ KB\n"
          ],
          "name": "stdout"
        },
        {
          "output_type": "execute_result",
          "data": {
            "text/html": [
              "<div>\n",
              "<style scoped>\n",
              "    .dataframe tbody tr th:only-of-type {\n",
              "        vertical-align: middle;\n",
              "    }\n",
              "\n",
              "    .dataframe tbody tr th {\n",
              "        vertical-align: top;\n",
              "    }\n",
              "\n",
              "    .dataframe thead th {\n",
              "        text-align: right;\n",
              "    }\n",
              "</style>\n",
              "<table border=\"1\" class=\"dataframe\">\n",
              "  <thead>\n",
              "    <tr style=\"text-align: right;\">\n",
              "      <th></th>\n",
              "      <th>PassengerId</th>\n",
              "      <th>Pclass</th>\n",
              "      <th>Age</th>\n",
              "      <th>SibSp</th>\n",
              "      <th>Parch</th>\n",
              "      <th>Fare</th>\n",
              "    </tr>\n",
              "  </thead>\n",
              "  <tbody>\n",
              "    <tr>\n",
              "      <th>count</th>\n",
              "      <td>418.000000</td>\n",
              "      <td>418.000000</td>\n",
              "      <td>332.000000</td>\n",
              "      <td>418.000000</td>\n",
              "      <td>418.000000</td>\n",
              "      <td>417.000000</td>\n",
              "    </tr>\n",
              "    <tr>\n",
              "      <th>mean</th>\n",
              "      <td>1100.500000</td>\n",
              "      <td>2.265550</td>\n",
              "      <td>30.272590</td>\n",
              "      <td>0.447368</td>\n",
              "      <td>0.392344</td>\n",
              "      <td>35.627188</td>\n",
              "    </tr>\n",
              "    <tr>\n",
              "      <th>std</th>\n",
              "      <td>120.810458</td>\n",
              "      <td>0.841838</td>\n",
              "      <td>14.181209</td>\n",
              "      <td>0.896760</td>\n",
              "      <td>0.981429</td>\n",
              "      <td>55.907576</td>\n",
              "    </tr>\n",
              "    <tr>\n",
              "      <th>min</th>\n",
              "      <td>892.000000</td>\n",
              "      <td>1.000000</td>\n",
              "      <td>0.170000</td>\n",
              "      <td>0.000000</td>\n",
              "      <td>0.000000</td>\n",
              "      <td>0.000000</td>\n",
              "    </tr>\n",
              "    <tr>\n",
              "      <th>25%</th>\n",
              "      <td>996.250000</td>\n",
              "      <td>1.000000</td>\n",
              "      <td>21.000000</td>\n",
              "      <td>0.000000</td>\n",
              "      <td>0.000000</td>\n",
              "      <td>7.895800</td>\n",
              "    </tr>\n",
              "    <tr>\n",
              "      <th>50%</th>\n",
              "      <td>1100.500000</td>\n",
              "      <td>3.000000</td>\n",
              "      <td>27.000000</td>\n",
              "      <td>0.000000</td>\n",
              "      <td>0.000000</td>\n",
              "      <td>14.454200</td>\n",
              "    </tr>\n",
              "    <tr>\n",
              "      <th>75%</th>\n",
              "      <td>1204.750000</td>\n",
              "      <td>3.000000</td>\n",
              "      <td>39.000000</td>\n",
              "      <td>1.000000</td>\n",
              "      <td>0.000000</td>\n",
              "      <td>31.500000</td>\n",
              "    </tr>\n",
              "    <tr>\n",
              "      <th>max</th>\n",
              "      <td>1309.000000</td>\n",
              "      <td>3.000000</td>\n",
              "      <td>76.000000</td>\n",
              "      <td>8.000000</td>\n",
              "      <td>9.000000</td>\n",
              "      <td>512.329200</td>\n",
              "    </tr>\n",
              "  </tbody>\n",
              "</table>\n",
              "</div>"
            ],
            "text/plain": [
              "       PassengerId      Pclass         Age       SibSp       Parch        Fare\n",
              "count   418.000000  418.000000  332.000000  418.000000  418.000000  417.000000\n",
              "mean   1100.500000    2.265550   30.272590    0.447368    0.392344   35.627188\n",
              "std     120.810458    0.841838   14.181209    0.896760    0.981429   55.907576\n",
              "min     892.000000    1.000000    0.170000    0.000000    0.000000    0.000000\n",
              "25%     996.250000    1.000000   21.000000    0.000000    0.000000    7.895800\n",
              "50%    1100.500000    3.000000   27.000000    0.000000    0.000000   14.454200\n",
              "75%    1204.750000    3.000000   39.000000    1.000000    0.000000   31.500000\n",
              "max    1309.000000    3.000000   76.000000    8.000000    9.000000  512.329200"
            ]
          },
          "metadata": {
            "tags": []
          },
          "execution_count": 76
        }
      ]
    },
    {
      "cell_type": "code",
      "metadata": {
        "id": "pPM9oxats0aW",
        "colab_type": "code",
        "colab": {
          "base_uri": "https://localhost:8080/",
          "height": 173
        },
        "outputId": "b9c07a4a-d980-4dd0-a6b6-038ff4f1ddba"
      },
      "source": [
        "df_test.describe(include=[\"O\"])"
      ],
      "execution_count": 77,
      "outputs": [
        {
          "output_type": "execute_result",
          "data": {
            "text/html": [
              "<div>\n",
              "<style scoped>\n",
              "    .dataframe tbody tr th:only-of-type {\n",
              "        vertical-align: middle;\n",
              "    }\n",
              "\n",
              "    .dataframe tbody tr th {\n",
              "        vertical-align: top;\n",
              "    }\n",
              "\n",
              "    .dataframe thead th {\n",
              "        text-align: right;\n",
              "    }\n",
              "</style>\n",
              "<table border=\"1\" class=\"dataframe\">\n",
              "  <thead>\n",
              "    <tr style=\"text-align: right;\">\n",
              "      <th></th>\n",
              "      <th>Name</th>\n",
              "      <th>Sex</th>\n",
              "      <th>Ticket</th>\n",
              "      <th>Cabin</th>\n",
              "      <th>Embarked</th>\n",
              "    </tr>\n",
              "  </thead>\n",
              "  <tbody>\n",
              "    <tr>\n",
              "      <th>count</th>\n",
              "      <td>418</td>\n",
              "      <td>418</td>\n",
              "      <td>418</td>\n",
              "      <td>91</td>\n",
              "      <td>418</td>\n",
              "    </tr>\n",
              "    <tr>\n",
              "      <th>unique</th>\n",
              "      <td>418</td>\n",
              "      <td>2</td>\n",
              "      <td>363</td>\n",
              "      <td>76</td>\n",
              "      <td>3</td>\n",
              "    </tr>\n",
              "    <tr>\n",
              "      <th>top</th>\n",
              "      <td>Ismay, Mr. Joseph Bruce</td>\n",
              "      <td>male</td>\n",
              "      <td>PC 17608</td>\n",
              "      <td>B57 B59 B63 B66</td>\n",
              "      <td>S</td>\n",
              "    </tr>\n",
              "    <tr>\n",
              "      <th>freq</th>\n",
              "      <td>1</td>\n",
              "      <td>266</td>\n",
              "      <td>5</td>\n",
              "      <td>3</td>\n",
              "      <td>270</td>\n",
              "    </tr>\n",
              "  </tbody>\n",
              "</table>\n",
              "</div>"
            ],
            "text/plain": [
              "                           Name   Sex    Ticket            Cabin Embarked\n",
              "count                       418   418       418               91      418\n",
              "unique                      418     2       363               76        3\n",
              "top     Ismay, Mr. Joseph Bruce  male  PC 17608  B57 B59 B63 B66        S\n",
              "freq                          1   266         5                3      270"
            ]
          },
          "metadata": {
            "tags": []
          },
          "execution_count": 77
        }
      ]
    },
    {
      "cell_type": "markdown",
      "metadata": {
        "id": "dLeoY0sXs0aZ",
        "colab_type": "text"
      },
      "source": [
        "### Avaliar inconsistências\n",
        "Ver registros com features nulas"
      ]
    },
    {
      "cell_type": "code",
      "metadata": {
        "id": "BDqYQwhGs0ab",
        "colab_type": "code",
        "colab": {
          "base_uri": "https://localhost:8080/",
          "height": 935
        },
        "outputId": "c4dc833e-cb6b-4f48-e0c5-1e16b2a531d8"
      },
      "source": [
        "print(\"Missing data counts in Training Data : \")\n",
        "print(df_train.isnull().sum())\n",
        "\n",
        "print(\"Missing data counts in Test Data : \")\n",
        "print(df_test.isnull().sum())\n",
        "\n",
        "print(\"Percentage of data missing Training Data: \")\n",
        "print(df_train.isnull().sum()/df_train.shape[0])\n",
        "\n",
        "print(\"Percentage of data missing Test Data: \")\n",
        "print(df_test.isnull().sum()/df_test.shape[0])"
      ],
      "execution_count": 78,
      "outputs": [
        {
          "output_type": "stream",
          "text": [
            "Missing data counts in Training Data : \n",
            "PassengerId      0\n",
            "Survived         0\n",
            "Pclass           0\n",
            "Name             0\n",
            "Sex              0\n",
            "Age            177\n",
            "SibSp            0\n",
            "Parch            0\n",
            "Ticket           0\n",
            "Fare             0\n",
            "Cabin          687\n",
            "Embarked         2\n",
            "dtype: int64\n",
            "Missing data counts in Test Data : \n",
            "PassengerId      0\n",
            "Pclass           0\n",
            "Name             0\n",
            "Sex              0\n",
            "Age             86\n",
            "SibSp            0\n",
            "Parch            0\n",
            "Ticket           0\n",
            "Fare             1\n",
            "Cabin          327\n",
            "Embarked         0\n",
            "dtype: int64\n",
            "Percentage of data missing Training Data: \n",
            "PassengerId    0.000000\n",
            "Survived       0.000000\n",
            "Pclass         0.000000\n",
            "Name           0.000000\n",
            "Sex            0.000000\n",
            "Age            0.198653\n",
            "SibSp          0.000000\n",
            "Parch          0.000000\n",
            "Ticket         0.000000\n",
            "Fare           0.000000\n",
            "Cabin          0.771044\n",
            "Embarked       0.002245\n",
            "dtype: float64\n",
            "Percentage of data missing Test Data: \n",
            "PassengerId    0.000000\n",
            "Pclass         0.000000\n",
            "Name           0.000000\n",
            "Sex            0.000000\n",
            "Age            0.205742\n",
            "SibSp          0.000000\n",
            "Parch          0.000000\n",
            "Ticket         0.000000\n",
            "Fare           0.002392\n",
            "Cabin          0.782297\n",
            "Embarked       0.000000\n",
            "dtype: float64\n"
          ],
          "name": "stdout"
        }
      ]
    },
    {
      "cell_type": "markdown",
      "metadata": {
        "id": "euNfvxRps0af",
        "colab_type": "text"
      },
      "source": [
        "Avaliar se os ID dos passageiros estão certos"
      ]
    },
    {
      "cell_type": "code",
      "metadata": {
        "id": "zUm7uo6ws0ag",
        "colab_type": "code",
        "colab": {
          "base_uri": "https://localhost:8080/",
          "height": 51
        },
        "outputId": "10377c8a-c1e6-4b59-f693-e20a6b6a1b62"
      },
      "source": [
        "print(\"Train\", df_train[\"PassengerId\"].unique().size, \"=\", df_train.shape[0])\n",
        "print(\"Test\", df_test[\"PassengerId\"].unique().size, \"=\", df_test.shape[0])"
      ],
      "execution_count": 79,
      "outputs": [
        {
          "output_type": "stream",
          "text": [
            "Train 891 = 891\n",
            "Test 418 = 418\n"
          ],
          "name": "stdout"
        }
      ]
    },
    {
      "cell_type": "markdown",
      "metadata": {
        "id": "Wl9WP_xJs0ak",
        "colab_type": "text"
      },
      "source": [
        "Ver labels das **features** categóricas"
      ]
    },
    {
      "cell_type": "code",
      "metadata": {
        "id": "Q86Pl4sys0al",
        "colab_type": "code",
        "colab": {
          "base_uri": "https://localhost:8080/",
          "height": 102
        },
        "outputId": "6cac22aa-36e0-45d3-ee27-fb9525a939e0"
      },
      "source": [
        "for label in [\"Pclass\", \"Sex\", \"SibSp\", \"Parch\", \"Embarked\"]:\n",
        "    print(label, df_train[label].unique())\n",
        "#C = Cherbourg\n",
        "#Q = Queenstown\n",
        "#S = Southampton"
      ],
      "execution_count": 80,
      "outputs": [
        {
          "output_type": "stream",
          "text": [
            "Pclass [3 1 2]\n",
            "Sex ['male' 'female']\n",
            "SibSp [1 0 3 4 2 5 8]\n",
            "Parch [0 1 2 5 3 4 6]\n",
            "Embarked ['S' 'C' 'Q' nan]\n"
          ],
          "name": "stdout"
        }
      ]
    },
    {
      "cell_type": "markdown",
      "metadata": {
        "id": "VU8OZ4xRs0ap",
        "colab_type": "text"
      },
      "source": [
        "## Tratando os dados"
      ]
    },
    {
      "cell_type": "code",
      "metadata": {
        "id": "5-n7qynNs0aq",
        "colab_type": "code",
        "colab": {}
      },
      "source": [
        "train = df_train.copy()\n",
        "test  = df_test.copy()"
      ],
      "execution_count": 0,
      "outputs": []
    },
    {
      "cell_type": "markdown",
      "metadata": {
        "id": "57gFnGoos0ax",
        "colab_type": "text"
      },
      "source": [
        "### Análise dos dados faltantes em grande volume\n",
        "\n",
        "Cerca de 77% dos registros no **dataset de treino** e 78% no **dataset de teste** estão sem a informação de **Cabin**, sendo inevitável que esse atributo deverá ser ignorado.\n",
        "\n",
        "Já para o atributo **Age**, em ambos **dataset** observamos uma taxa de valores faltando de 20%, aproximadamente, sendo possível tentar completar esses registros corrompidos."
      ]
    },
    {
      "cell_type": "code",
      "metadata": {
        "id": "U4FC_FzKs0az",
        "colab_type": "code",
        "colab": {}
      },
      "source": [
        "train = train.drop(['Cabin'], axis=1)\n",
        "test  = test.drop(['Cabin'], axis=1)"
      ],
      "execution_count": 0,
      "outputs": []
    },
    {
      "cell_type": "markdown",
      "metadata": {
        "id": "5nh4NGOCs0a5",
        "colab_type": "text"
      },
      "source": [
        "### Tratar o atributo Ticket\n",
        "\n",
        "Ticket é apenas um nome, vamos ignorar o atributo que não vai ser útil para o treinamento"
      ]
    },
    {
      "cell_type": "code",
      "metadata": {
        "id": "XIfPB0qEs0a6",
        "colab_type": "code",
        "colab": {}
      },
      "source": [
        "train = train.drop(['Ticket'], axis=1)\n",
        "test  = test.drop(['Ticket'], axis=1)"
      ],
      "execution_count": 0,
      "outputs": []
    },
    {
      "cell_type": "markdown",
      "metadata": {
        "id": "81Qjy-92s0a_",
        "colab_type": "text"
      },
      "source": [
        "### Tratar o atributo Fare"
      ]
    },
    {
      "cell_type": "code",
      "metadata": {
        "id": "BG2IAQbNs0a_",
        "colab_type": "code",
        "colab": {
          "base_uri": "https://localhost:8080/",
          "height": 80
        },
        "outputId": "7b71eede-bf71-499d-ac14-3c06ade02f57"
      },
      "source": [
        "df_test[df_test[\"Fare\"].isnull()]"
      ],
      "execution_count": 84,
      "outputs": [
        {
          "output_type": "execute_result",
          "data": {
            "text/html": [
              "<div>\n",
              "<style scoped>\n",
              "    .dataframe tbody tr th:only-of-type {\n",
              "        vertical-align: middle;\n",
              "    }\n",
              "\n",
              "    .dataframe tbody tr th {\n",
              "        vertical-align: top;\n",
              "    }\n",
              "\n",
              "    .dataframe thead th {\n",
              "        text-align: right;\n",
              "    }\n",
              "</style>\n",
              "<table border=\"1\" class=\"dataframe\">\n",
              "  <thead>\n",
              "    <tr style=\"text-align: right;\">\n",
              "      <th></th>\n",
              "      <th>PassengerId</th>\n",
              "      <th>Pclass</th>\n",
              "      <th>Name</th>\n",
              "      <th>Sex</th>\n",
              "      <th>Age</th>\n",
              "      <th>SibSp</th>\n",
              "      <th>Parch</th>\n",
              "      <th>Ticket</th>\n",
              "      <th>Fare</th>\n",
              "      <th>Cabin</th>\n",
              "      <th>Embarked</th>\n",
              "    </tr>\n",
              "  </thead>\n",
              "  <tbody>\n",
              "    <tr>\n",
              "      <th>152</th>\n",
              "      <td>1044</td>\n",
              "      <td>3</td>\n",
              "      <td>Storey, Mr. Thomas</td>\n",
              "      <td>male</td>\n",
              "      <td>60.5</td>\n",
              "      <td>0</td>\n",
              "      <td>0</td>\n",
              "      <td>3701</td>\n",
              "      <td>NaN</td>\n",
              "      <td>NaN</td>\n",
              "      <td>S</td>\n",
              "    </tr>\n",
              "  </tbody>\n",
              "</table>\n",
              "</div>"
            ],
            "text/plain": [
              "     PassengerId  Pclass                Name   Sex  ...  Ticket  Fare  Cabin Embarked\n",
              "152         1044       3  Storey, Mr. Thomas  male  ...    3701   NaN    NaN        S\n",
              "\n",
              "[1 rows x 11 columns]"
            ]
          },
          "metadata": {
            "tags": []
          },
          "execution_count": 84
        }
      ]
    },
    {
      "cell_type": "markdown",
      "metadata": {
        "id": "M0zg_kxFs0bD",
        "colab_type": "text"
      },
      "source": [
        "Para o atributo **Fare** vamos completar com a média"
      ]
    },
    {
      "cell_type": "code",
      "metadata": {
        "id": "404fojils0bE",
        "colab_type": "code",
        "colab": {}
      },
      "source": [
        "test['Fare'] = df_test['Fare'].fillna(value=df_test['Fare'].mean(),axis=0)"
      ],
      "execution_count": 0,
      "outputs": []
    },
    {
      "cell_type": "markdown",
      "metadata": {
        "id": "we6-t0vks0bI",
        "colab_type": "text"
      },
      "source": [
        "### Tratar o atributo Embarked"
      ]
    },
    {
      "cell_type": "code",
      "metadata": {
        "id": "RhdUQOYks0bJ",
        "colab_type": "code",
        "colab": {
          "base_uri": "https://localhost:8080/",
          "height": 111
        },
        "outputId": "3d3b5cd3-0aa9-4d34-abac-ce4ec0d5453a"
      },
      "source": [
        "df_train[df_train[\"Embarked\"].isnull()]"
      ],
      "execution_count": 86,
      "outputs": [
        {
          "output_type": "execute_result",
          "data": {
            "text/html": [
              "<div>\n",
              "<style scoped>\n",
              "    .dataframe tbody tr th:only-of-type {\n",
              "        vertical-align: middle;\n",
              "    }\n",
              "\n",
              "    .dataframe tbody tr th {\n",
              "        vertical-align: top;\n",
              "    }\n",
              "\n",
              "    .dataframe thead th {\n",
              "        text-align: right;\n",
              "    }\n",
              "</style>\n",
              "<table border=\"1\" class=\"dataframe\">\n",
              "  <thead>\n",
              "    <tr style=\"text-align: right;\">\n",
              "      <th></th>\n",
              "      <th>PassengerId</th>\n",
              "      <th>Survived</th>\n",
              "      <th>Pclass</th>\n",
              "      <th>Name</th>\n",
              "      <th>Sex</th>\n",
              "      <th>Age</th>\n",
              "      <th>SibSp</th>\n",
              "      <th>Parch</th>\n",
              "      <th>Ticket</th>\n",
              "      <th>Fare</th>\n",
              "      <th>Cabin</th>\n",
              "      <th>Embarked</th>\n",
              "    </tr>\n",
              "  </thead>\n",
              "  <tbody>\n",
              "    <tr>\n",
              "      <th>61</th>\n",
              "      <td>62</td>\n",
              "      <td>1</td>\n",
              "      <td>1</td>\n",
              "      <td>Icard, Miss. Amelie</td>\n",
              "      <td>female</td>\n",
              "      <td>38.0</td>\n",
              "      <td>0</td>\n",
              "      <td>0</td>\n",
              "      <td>113572</td>\n",
              "      <td>80.0</td>\n",
              "      <td>B28</td>\n",
              "      <td>NaN</td>\n",
              "    </tr>\n",
              "    <tr>\n",
              "      <th>829</th>\n",
              "      <td>830</td>\n",
              "      <td>1</td>\n",
              "      <td>1</td>\n",
              "      <td>Stone, Mrs. George Nelson (Martha Evelyn)</td>\n",
              "      <td>female</td>\n",
              "      <td>62.0</td>\n",
              "      <td>0</td>\n",
              "      <td>0</td>\n",
              "      <td>113572</td>\n",
              "      <td>80.0</td>\n",
              "      <td>B28</td>\n",
              "      <td>NaN</td>\n",
              "    </tr>\n",
              "  </tbody>\n",
              "</table>\n",
              "</div>"
            ],
            "text/plain": [
              "     PassengerId  Survived  Pclass  ...  Fare Cabin  Embarked\n",
              "61            62         1       1  ...  80.0   B28       NaN\n",
              "829          830         1       1  ...  80.0   B28       NaN\n",
              "\n",
              "[2 rows x 12 columns]"
            ]
          },
          "metadata": {
            "tags": []
          },
          "execution_count": 86
        }
      ]
    },
    {
      "cell_type": "markdown",
      "metadata": {
        "id": "Osj2OKjcs0bN",
        "colab_type": "text"
      },
      "source": [
        "Para o atributo **Embarked** vamos completar com o valor mais comum"
      ]
    },
    {
      "cell_type": "code",
      "metadata": {
        "id": "eNOXs5O6s0bO",
        "colab_type": "code",
        "colab": {}
      },
      "source": [
        "train['Embarked'] = df_train['Embarked'].fillna(value='S',axis=0)"
      ],
      "execution_count": 0,
      "outputs": []
    },
    {
      "cell_type": "markdown",
      "metadata": {
        "id": "kX11NJYds0bR",
        "colab_type": "text"
      },
      "source": [
        "### Tratar atributos Parch e SibSp"
      ]
    },
    {
      "cell_type": "code",
      "metadata": {
        "id": "nazHvEdks0bS",
        "colab_type": "code",
        "colab": {}
      },
      "source": [
        "train['FamilySize'] = train['Parch'] + train['SibSp'] + 1\n",
        "test['FamilySize']  = test['Parch'] + test['SibSp'] + 1\n",
        "\n",
        "train = train.drop(['Parch', 'SibSp'], axis=1)\n",
        "test  = test.drop(['Parch', 'SibSp'], axis=1)"
      ],
      "execution_count": 0,
      "outputs": []
    },
    {
      "cell_type": "markdown",
      "metadata": {
        "id": "YPQ4SLoqs0bV",
        "colab_type": "text"
      },
      "source": [
        "### Tratar os nomes\n",
        "Tentar extrair \"título\" dos nomes das pessoas."
      ]
    },
    {
      "cell_type": "code",
      "metadata": {
        "id": "9kcqQnmvs0bW",
        "colab_type": "code",
        "colab": {
          "base_uri": "https://localhost:8080/",
          "height": 1000
        },
        "outputId": "14bfb8d5-0a6d-4b06-ee5d-b3f60881f3b9"
      },
      "source": [
        "# Extrair todos os titulos do conjunto de treinamento\n",
        "def extract_titles(df):\n",
        "    pos = df.columns.get_loc('Name')\n",
        "    titles = set({})\n",
        "    for row in df.values:\n",
        "        title = row[pos].split(',')[1].split('.')[0] + '.'.strip()\n",
        "        titles.add(title)\n",
        "\n",
        "    return titles\n",
        "\n",
        "# Adicionar uma coluna nova de titulos para o conjunto de treinamento\n",
        "def add_titles_to_df(df) :\n",
        "    titles = extract_titles(df)\n",
        "    pos = df.columns.get_loc('Name')\n",
        "    title_list = []\n",
        "    for row in df.values:\n",
        "        for title in titles:\n",
        "            if title in row[pos]:\n",
        "                title_list.append(title)\n",
        "                break\n",
        "    df['Title'] = title_list\n",
        "    return df\n",
        "\n",
        "# Adicionar uma coluna com os titulos no conjunto de treinamentos\n",
        "print(train)\n",
        "add_titles_to_df(train)\n",
        "add_titles_to_df(test)\n",
        "\n",
        "train.head()"
      ],
      "execution_count": 89,
      "outputs": [
        {
          "output_type": "stream",
          "text": [
            "     PassengerId  Survived  Pclass  ...      Fare Embarked  FamilySize\n",
            "0              1         0       3  ...    7.2500        S           2\n",
            "1              2         1       1  ...   71.2833        C           2\n",
            "2              3         1       3  ...    7.9250        S           1\n",
            "3              4         1       1  ...   53.1000        S           2\n",
            "4              5         0       3  ...    8.0500        S           1\n",
            "5              6         0       3  ...    8.4583        Q           1\n",
            "6              7         0       1  ...   51.8625        S           1\n",
            "7              8         0       3  ...   21.0750        S           5\n",
            "8              9         1       3  ...   11.1333        S           3\n",
            "9             10         1       2  ...   30.0708        C           2\n",
            "10            11         1       3  ...   16.7000        S           3\n",
            "11            12         1       1  ...   26.5500        S           1\n",
            "12            13         0       3  ...    8.0500        S           1\n",
            "13            14         0       3  ...   31.2750        S           7\n",
            "14            15         0       3  ...    7.8542        S           1\n",
            "15            16         1       2  ...   16.0000        S           1\n",
            "16            17         0       3  ...   29.1250        Q           6\n",
            "17            18         1       2  ...   13.0000        S           1\n",
            "18            19         0       3  ...   18.0000        S           2\n",
            "19            20         1       3  ...    7.2250        C           1\n",
            "20            21         0       2  ...   26.0000        S           1\n",
            "21            22         1       2  ...   13.0000        S           1\n",
            "22            23         1       3  ...    8.0292        Q           1\n",
            "23            24         1       1  ...   35.5000        S           1\n",
            "24            25         0       3  ...   21.0750        S           5\n",
            "25            26         1       3  ...   31.3875        S           7\n",
            "26            27         0       3  ...    7.2250        C           1\n",
            "27            28         0       1  ...  263.0000        S           6\n",
            "28            29         1       3  ...    7.8792        Q           1\n",
            "29            30         0       3  ...    7.8958        S           1\n",
            "..           ...       ...     ...  ...       ...      ...         ...\n",
            "861          862         0       2  ...   11.5000        S           2\n",
            "862          863         1       1  ...   25.9292        S           1\n",
            "863          864         0       3  ...   69.5500        S          11\n",
            "864          865         0       2  ...   13.0000        S           1\n",
            "865          866         1       2  ...   13.0000        S           1\n",
            "866          867         1       2  ...   13.8583        C           2\n",
            "867          868         0       1  ...   50.4958        S           1\n",
            "868          869         0       3  ...    9.5000        S           1\n",
            "869          870         1       3  ...   11.1333        S           3\n",
            "870          871         0       3  ...    7.8958        S           1\n",
            "871          872         1       1  ...   52.5542        S           3\n",
            "872          873         0       1  ...    5.0000        S           1\n",
            "873          874         0       3  ...    9.0000        S           1\n",
            "874          875         1       2  ...   24.0000        C           2\n",
            "875          876         1       3  ...    7.2250        C           1\n",
            "876          877         0       3  ...    9.8458        S           1\n",
            "877          878         0       3  ...    7.8958        S           1\n",
            "878          879         0       3  ...    7.8958        S           1\n",
            "879          880         1       1  ...   83.1583        C           2\n",
            "880          881         1       2  ...   26.0000        S           2\n",
            "881          882         0       3  ...    7.8958        S           1\n",
            "882          883         0       3  ...   10.5167        S           1\n",
            "883          884         0       2  ...   10.5000        S           1\n",
            "884          885         0       3  ...    7.0500        S           1\n",
            "885          886         0       3  ...   29.1250        Q           6\n",
            "886          887         0       2  ...   13.0000        S           1\n",
            "887          888         1       1  ...   30.0000        S           1\n",
            "888          889         0       3  ...   23.4500        S           4\n",
            "889          890         1       1  ...   30.0000        C           1\n",
            "890          891         0       3  ...    7.7500        Q           1\n",
            "\n",
            "[891 rows x 9 columns]\n"
          ],
          "name": "stdout"
        },
        {
          "output_type": "execute_result",
          "data": {
            "text/html": [
              "<div>\n",
              "<style scoped>\n",
              "    .dataframe tbody tr th:only-of-type {\n",
              "        vertical-align: middle;\n",
              "    }\n",
              "\n",
              "    .dataframe tbody tr th {\n",
              "        vertical-align: top;\n",
              "    }\n",
              "\n",
              "    .dataframe thead th {\n",
              "        text-align: right;\n",
              "    }\n",
              "</style>\n",
              "<table border=\"1\" class=\"dataframe\">\n",
              "  <thead>\n",
              "    <tr style=\"text-align: right;\">\n",
              "      <th></th>\n",
              "      <th>PassengerId</th>\n",
              "      <th>Survived</th>\n",
              "      <th>Pclass</th>\n",
              "      <th>Name</th>\n",
              "      <th>Sex</th>\n",
              "      <th>Age</th>\n",
              "      <th>Fare</th>\n",
              "      <th>Embarked</th>\n",
              "      <th>FamilySize</th>\n",
              "      <th>Title</th>\n",
              "    </tr>\n",
              "  </thead>\n",
              "  <tbody>\n",
              "    <tr>\n",
              "      <th>0</th>\n",
              "      <td>1</td>\n",
              "      <td>0</td>\n",
              "      <td>3</td>\n",
              "      <td>Braund, Mr. Owen Harris</td>\n",
              "      <td>male</td>\n",
              "      <td>22.0</td>\n",
              "      <td>7.2500</td>\n",
              "      <td>S</td>\n",
              "      <td>2</td>\n",
              "      <td>Mr.</td>\n",
              "    </tr>\n",
              "    <tr>\n",
              "      <th>1</th>\n",
              "      <td>2</td>\n",
              "      <td>1</td>\n",
              "      <td>1</td>\n",
              "      <td>Cumings, Mrs. John Bradley (Florence Briggs Th...</td>\n",
              "      <td>female</td>\n",
              "      <td>38.0</td>\n",
              "      <td>71.2833</td>\n",
              "      <td>C</td>\n",
              "      <td>2</td>\n",
              "      <td>Mrs.</td>\n",
              "    </tr>\n",
              "    <tr>\n",
              "      <th>2</th>\n",
              "      <td>3</td>\n",
              "      <td>1</td>\n",
              "      <td>3</td>\n",
              "      <td>Heikkinen, Miss. Laina</td>\n",
              "      <td>female</td>\n",
              "      <td>26.0</td>\n",
              "      <td>7.9250</td>\n",
              "      <td>S</td>\n",
              "      <td>1</td>\n",
              "      <td>Miss.</td>\n",
              "    </tr>\n",
              "    <tr>\n",
              "      <th>3</th>\n",
              "      <td>4</td>\n",
              "      <td>1</td>\n",
              "      <td>1</td>\n",
              "      <td>Futrelle, Mrs. Jacques Heath (Lily May Peel)</td>\n",
              "      <td>female</td>\n",
              "      <td>35.0</td>\n",
              "      <td>53.1000</td>\n",
              "      <td>S</td>\n",
              "      <td>2</td>\n",
              "      <td>Mrs.</td>\n",
              "    </tr>\n",
              "    <tr>\n",
              "      <th>4</th>\n",
              "      <td>5</td>\n",
              "      <td>0</td>\n",
              "      <td>3</td>\n",
              "      <td>Allen, Mr. William Henry</td>\n",
              "      <td>male</td>\n",
              "      <td>35.0</td>\n",
              "      <td>8.0500</td>\n",
              "      <td>S</td>\n",
              "      <td>1</td>\n",
              "      <td>Mr.</td>\n",
              "    </tr>\n",
              "  </tbody>\n",
              "</table>\n",
              "</div>"
            ],
            "text/plain": [
              "   PassengerId  Survived  Pclass  ... Embarked FamilySize   Title\n",
              "0            1         0       3  ...        S          2     Mr.\n",
              "1            2         1       1  ...        C          2    Mrs.\n",
              "2            3         1       3  ...        S          1   Miss.\n",
              "3            4         1       1  ...        S          2    Mrs.\n",
              "4            5         0       3  ...        S          1     Mr.\n",
              "\n",
              "[5 rows x 10 columns]"
            ]
          },
          "metadata": {
            "tags": []
          },
          "execution_count": 89
        }
      ]
    },
    {
      "cell_type": "markdown",
      "metadata": {
        "id": "vgFpTUNns0bb",
        "colab_type": "text"
      },
      "source": [
        "Foi verificado que existem títulos com poucas entradas, o que pode indicar ruídos"
      ]
    },
    {
      "cell_type": "code",
      "metadata": {
        "id": "bwKEJ6wJs0bc",
        "colab_type": "code",
        "colab": {
          "base_uri": "https://localhost:8080/",
          "height": 323
        },
        "outputId": "478ffa86-30b7-414c-f450-13f66443739e"
      },
      "source": [
        "train['Title'].value_counts()"
      ],
      "execution_count": 90,
      "outputs": [
        {
          "output_type": "execute_result",
          "data": {
            "text/plain": [
              " Mr.              517\n",
              " Miss.            182\n",
              " Mrs.             125\n",
              " Master.           40\n",
              " Dr.                7\n",
              " Rev.               6\n",
              " Mlle.              2\n",
              " Col.               2\n",
              " Major.             2\n",
              " Capt.              1\n",
              " Don.               1\n",
              " Mme.               1\n",
              " Ms.                1\n",
              " Lady.              1\n",
              " Jonkheer.          1\n",
              " the Countess.      1\n",
              " Sir.               1\n",
              "Name: Title, dtype: int64"
            ]
          },
          "metadata": {
            "tags": []
          },
          "execution_count": 90
        }
      ]
    },
    {
      "cell_type": "markdown",
      "metadata": {
        "id": "AHpBDZM3s0bf",
        "colab_type": "text"
      },
      "source": [
        "Combinando os titulos incomuns com os comuns"
      ]
    },
    {
      "cell_type": "code",
      "metadata": {
        "id": "1Yz-2hFjs0bg",
        "colab_type": "code",
        "colab": {
          "base_uri": "https://localhost:8080/",
          "height": 1000
        },
        "outputId": "7bb5bcae-00cc-4aa3-f132-0729ba6189d4"
      },
      "source": [
        "male_titles = [' Col.',' Major.',' Capt.',' Jonkheer.',' Don.',' Sir.']\n",
        "female_titles = [' Lady.',' Mme.',' the Countess.',' Dona.',' Mlle.']\n",
        "\n",
        "def replace_uncommon_titles(df,new_title,title_list):\n",
        "    pos = df.columns.get_loc('Title')\n",
        "    for title in title_list:\n",
        "        for i in range(0,df.shape[0]):\n",
        "            if df.iloc[i,pos] == title:\n",
        "                print(title)\n",
        "                df.iloc[i,pos] = new_title                \n",
        "    return df\n",
        "\n",
        "train = replace_uncommon_titles(train,' Mr.',male_titles)\n",
        "train = replace_uncommon_titles(train,\" Miss.\",female_titles)\n",
        "test = replace_uncommon_titles(test,\" Mr.\",male_titles)\n",
        "test = replace_uncommon_titles(test,\" Miss.\",female_titles)\n",
        "\n",
        "# Checando os dados de cada titulo\n",
        "titles = list(train['Title'].value_counts().index)\n",
        "for title in titles:\n",
        "    print(\"Title train:: \", title)\n",
        "    print(train[train['Title'] == title].describe()[\"Age\"])\n",
        "    print(\"Title test:: \", title)\n",
        "    print(test[test['Title'] == title].describe()[\"Age\"])"
      ],
      "execution_count": 91,
      "outputs": [
        {
          "output_type": "stream",
          "text": [
            " Col.\n",
            " Col.\n",
            " Major.\n",
            " Major.\n",
            " Capt.\n",
            " Jonkheer.\n",
            " Don.\n",
            " Sir.\n",
            " Lady.\n",
            " Mme.\n",
            " the Countess.\n",
            " Mlle.\n",
            " Mlle.\n",
            " Col.\n",
            " Col.\n",
            " Dona.\n",
            "Title train::   Mr.\n",
            "count    406.000000\n",
            "mean      32.740148\n",
            "std       12.930425\n",
            "min       11.000000\n",
            "25%       23.000000\n",
            "50%       30.000000\n",
            "75%       39.750000\n",
            "max       80.000000\n",
            "Name: Age, dtype: float64\n",
            "Title test::   Mr.\n",
            "count    185.000000\n",
            "mean      32.194595\n",
            "std       11.891720\n",
            "min       14.000000\n",
            "25%       23.000000\n",
            "50%       29.000000\n",
            "75%       40.000000\n",
            "max       67.000000\n",
            "Name: Age, dtype: float64\n",
            "Title train::   Miss.\n",
            "count    151.000000\n",
            "mean      22.066225\n",
            "std       12.983121\n",
            "min        0.750000\n",
            "25%       14.750000\n",
            "50%       22.000000\n",
            "75%       30.000000\n",
            "max       63.000000\n",
            "Name: Age, dtype: float64\n",
            "Title test::   Miss.\n",
            "count    65.000000\n",
            "mean     22.039846\n",
            "std      10.593381\n",
            "min       0.170000\n",
            "25%      18.000000\n",
            "50%      22.000000\n",
            "75%      30.000000\n",
            "max      45.000000\n",
            "Name: Age, dtype: float64\n",
            "Title train::   Mrs.\n",
            "count    108.000000\n",
            "mean      35.898148\n",
            "std       11.433628\n",
            "min       14.000000\n",
            "25%       27.750000\n",
            "50%       35.000000\n",
            "75%       44.000000\n",
            "max       63.000000\n",
            "Name: Age, dtype: float64\n",
            "Title test::   Mrs.\n",
            "count    62.000000\n",
            "mean     38.903226\n",
            "std      15.034070\n",
            "min      16.000000\n",
            "25%      26.000000\n",
            "50%      36.500000\n",
            "75%      49.500000\n",
            "max      76.000000\n",
            "Name: Age, dtype: float64\n",
            "Title train::   Master.\n",
            "count    36.000000\n",
            "mean      4.574167\n",
            "std       3.619872\n",
            "min       0.420000\n",
            "25%       1.000000\n",
            "50%       3.500000\n",
            "75%       8.000000\n",
            "max      12.000000\n",
            "Name: Age, dtype: float64\n",
            "Title test::   Master.\n",
            "count    17.000000\n",
            "mean      7.406471\n",
            "std       4.672470\n",
            "min       0.330000\n",
            "25%       5.000000\n",
            "50%       7.000000\n",
            "75%      11.500000\n",
            "max      14.500000\n",
            "Name: Age, dtype: float64\n",
            "Title train::   Dr.\n",
            "count     6.000000\n",
            "mean     42.000000\n",
            "std      12.016655\n",
            "min      23.000000\n",
            "25%      35.000000\n",
            "50%      46.500000\n",
            "75%      49.750000\n",
            "max      54.000000\n",
            "Name: Age, dtype: float64\n",
            "Title test::   Dr.\n",
            "count     1.0\n",
            "mean     53.0\n",
            "std       NaN\n",
            "min      53.0\n",
            "25%      53.0\n",
            "50%      53.0\n",
            "75%      53.0\n",
            "max      53.0\n",
            "Name: Age, dtype: float64\n",
            "Title train::   Rev.\n",
            "count     6.000000\n",
            "mean     43.166667\n",
            "std      13.136463\n",
            "min      27.000000\n",
            "25%      31.500000\n",
            "50%      46.500000\n",
            "75%      53.250000\n",
            "max      57.000000\n",
            "Name: Age, dtype: float64\n",
            "Title test::   Rev.\n",
            "count     2.000000\n",
            "mean     35.500000\n",
            "std       7.778175\n",
            "min      30.000000\n",
            "25%      32.750000\n",
            "50%      35.500000\n",
            "75%      38.250000\n",
            "max      41.000000\n",
            "Name: Age, dtype: float64\n",
            "Title train::   Ms.\n",
            "count     1.0\n",
            "mean     28.0\n",
            "std       NaN\n",
            "min      28.0\n",
            "25%      28.0\n",
            "50%      28.0\n",
            "75%      28.0\n",
            "max      28.0\n",
            "Name: Age, dtype: float64\n",
            "Title test::   Ms.\n",
            "count    0.0\n",
            "mean     NaN\n",
            "std      NaN\n",
            "min      NaN\n",
            "25%      NaN\n",
            "50%      NaN\n",
            "75%      NaN\n",
            "max      NaN\n",
            "Name: Age, dtype: float64\n"
          ],
          "name": "stdout"
        }
      ]
    },
    {
      "cell_type": "markdown",
      "metadata": {
        "id": "Z0ubBEvds0bm",
        "colab_type": "text"
      },
      "source": [
        "### Tratando a idade (Age)\n",
        "Utilizando os titulos para aproximar as idades faltantes"
      ]
    },
    {
      "cell_type": "code",
      "metadata": {
        "id": "Ft3bdiYDs0bn",
        "colab_type": "code",
        "colab": {
          "base_uri": "https://localhost:8080/",
          "height": 187
        },
        "outputId": "d96733b5-40f8-4b8b-973c-22198c48a051"
      },
      "source": [
        "age_mean = train.groupby(\"Title\").mean()['Age']\n",
        "\n",
        "def fill_age_na(df,age_mean):\n",
        "    rows_with_age_missing = df[df['Age'].isnull()]\n",
        "    pos = df.columns.get_loc(\"Age\")\n",
        "    for title in age_mean.index:\n",
        "        passengerIds = rows_with_age_missing[rows_with_age_missing['Title'] == title][\"PassengerId\"]\n",
        "        for Id in passengerIds:\n",
        "            df.iloc[df[df['PassengerId'] == Id].index.values,pos] = age_mean[title]\n",
        "    return df\n",
        "\n",
        "train = fill_age_na(train,age_mean)\n",
        "test = fill_age_na(test,age_mean)\n",
        "\n",
        "train[train['Age'].isnull()]\n",
        "test[test['Age'].isnull()]\n",
        "train.isnull().sum()\n",
        "test.isnull().sum()"
      ],
      "execution_count": 92,
      "outputs": [
        {
          "output_type": "execute_result",
          "data": {
            "text/plain": [
              "PassengerId    0\n",
              "Pclass         0\n",
              "Name           0\n",
              "Sex            0\n",
              "Age            0\n",
              "Fare           0\n",
              "Embarked       0\n",
              "FamilySize     0\n",
              "Title          0\n",
              "dtype: int64"
            ]
          },
          "metadata": {
            "tags": []
          },
          "execution_count": 92
        }
      ]
    },
    {
      "cell_type": "markdown",
      "metadata": {
        "id": "fPBbLJ-Is0bq",
        "colab_type": "text"
      },
      "source": [
        "## Tratando atributos categóricos\n",
        "\n",
        "Para o sexo, vamos apenas atribuir valor 1 para 'male' e 0 para 'female'"
      ]
    },
    {
      "cell_type": "code",
      "metadata": {
        "id": "iE-NMpu-s0bq",
        "colab_type": "code",
        "colab": {
          "base_uri": "https://localhost:8080/",
          "height": 204
        },
        "outputId": "e6ce8422-0ae0-43f7-fbb8-540156934a30"
      },
      "source": [
        "train[\"Sex_Code\"] = np.where(train[\"Sex\"] == 'male', 1, 0)\n",
        "test[\"Sex_Code\"]  = np.where(test[\"Sex\"] == 'male', 1, 0)\n",
        "\n",
        "train.head()"
      ],
      "execution_count": 93,
      "outputs": [
        {
          "output_type": "execute_result",
          "data": {
            "text/html": [
              "<div>\n",
              "<style scoped>\n",
              "    .dataframe tbody tr th:only-of-type {\n",
              "        vertical-align: middle;\n",
              "    }\n",
              "\n",
              "    .dataframe tbody tr th {\n",
              "        vertical-align: top;\n",
              "    }\n",
              "\n",
              "    .dataframe thead th {\n",
              "        text-align: right;\n",
              "    }\n",
              "</style>\n",
              "<table border=\"1\" class=\"dataframe\">\n",
              "  <thead>\n",
              "    <tr style=\"text-align: right;\">\n",
              "      <th></th>\n",
              "      <th>PassengerId</th>\n",
              "      <th>Survived</th>\n",
              "      <th>Pclass</th>\n",
              "      <th>Name</th>\n",
              "      <th>Sex</th>\n",
              "      <th>Age</th>\n",
              "      <th>Fare</th>\n",
              "      <th>Embarked</th>\n",
              "      <th>FamilySize</th>\n",
              "      <th>Title</th>\n",
              "      <th>Sex_Code</th>\n",
              "    </tr>\n",
              "  </thead>\n",
              "  <tbody>\n",
              "    <tr>\n",
              "      <th>0</th>\n",
              "      <td>1</td>\n",
              "      <td>0</td>\n",
              "      <td>3</td>\n",
              "      <td>Braund, Mr. Owen Harris</td>\n",
              "      <td>male</td>\n",
              "      <td>22.0</td>\n",
              "      <td>7.2500</td>\n",
              "      <td>S</td>\n",
              "      <td>2</td>\n",
              "      <td>Mr.</td>\n",
              "      <td>1</td>\n",
              "    </tr>\n",
              "    <tr>\n",
              "      <th>1</th>\n",
              "      <td>2</td>\n",
              "      <td>1</td>\n",
              "      <td>1</td>\n",
              "      <td>Cumings, Mrs. John Bradley (Florence Briggs Th...</td>\n",
              "      <td>female</td>\n",
              "      <td>38.0</td>\n",
              "      <td>71.2833</td>\n",
              "      <td>C</td>\n",
              "      <td>2</td>\n",
              "      <td>Mrs.</td>\n",
              "      <td>0</td>\n",
              "    </tr>\n",
              "    <tr>\n",
              "      <th>2</th>\n",
              "      <td>3</td>\n",
              "      <td>1</td>\n",
              "      <td>3</td>\n",
              "      <td>Heikkinen, Miss. Laina</td>\n",
              "      <td>female</td>\n",
              "      <td>26.0</td>\n",
              "      <td>7.9250</td>\n",
              "      <td>S</td>\n",
              "      <td>1</td>\n",
              "      <td>Miss.</td>\n",
              "      <td>0</td>\n",
              "    </tr>\n",
              "    <tr>\n",
              "      <th>3</th>\n",
              "      <td>4</td>\n",
              "      <td>1</td>\n",
              "      <td>1</td>\n",
              "      <td>Futrelle, Mrs. Jacques Heath (Lily May Peel)</td>\n",
              "      <td>female</td>\n",
              "      <td>35.0</td>\n",
              "      <td>53.1000</td>\n",
              "      <td>S</td>\n",
              "      <td>2</td>\n",
              "      <td>Mrs.</td>\n",
              "      <td>0</td>\n",
              "    </tr>\n",
              "    <tr>\n",
              "      <th>4</th>\n",
              "      <td>5</td>\n",
              "      <td>0</td>\n",
              "      <td>3</td>\n",
              "      <td>Allen, Mr. William Henry</td>\n",
              "      <td>male</td>\n",
              "      <td>35.0</td>\n",
              "      <td>8.0500</td>\n",
              "      <td>S</td>\n",
              "      <td>1</td>\n",
              "      <td>Mr.</td>\n",
              "      <td>1</td>\n",
              "    </tr>\n",
              "  </tbody>\n",
              "</table>\n",
              "</div>"
            ],
            "text/plain": [
              "   PassengerId  Survived  Pclass  ... FamilySize   Title  Sex_Code\n",
              "0            1         0       3  ...          2     Mr.         1\n",
              "1            2         1       1  ...          2    Mrs.         0\n",
              "2            3         1       3  ...          1   Miss.         0\n",
              "3            4         1       1  ...          2    Mrs.         0\n",
              "4            5         0       3  ...          1     Mr.         1\n",
              "\n",
              "[5 rows x 11 columns]"
            ]
          },
          "metadata": {
            "tags": []
          },
          "execution_count": 93
        }
      ]
    },
    {
      "cell_type": "code",
      "metadata": {
        "id": "EshHgQeVs0bv",
        "colab_type": "code",
        "colab": {
          "base_uri": "https://localhost:8080/",
          "height": 204
        },
        "outputId": "ffbc7ac6-2d1e-4a33-db28-17fa6b785b52"
      },
      "source": [
        "#Cria uma nova variável para cada valor único de \"Embarked\" (no caso, Embarked_C  Embarked_Q  Embarked_S)\n",
        "train[\"Embarked_C\"] = np.where(train[\"Embarked\"] == 'C', 1, 0)\n",
        "test[\"Embarked_C\"]  = np.where(test[\"Embarked\"] == 'C', 1, 0)\n",
        "\n",
        "train[\"Embarked_Q\"] = np.where(train[\"Embarked\"] == 'Q', 1, 0)\n",
        "test[\"Embarked_Q\"]  = np.where(test[\"Embarked\"] == 'Q', 1, 0)\n",
        "\n",
        "train[\"Embarked_S\"] = np.where(train[\"Embarked\"] == 'S', 1, 0)\n",
        "test[\"Embarked_S\"]  = np.where(test[\"Embarked\"] == 'S', 1, 0)\n",
        "\n",
        "train.head()"
      ],
      "execution_count": 94,
      "outputs": [
        {
          "output_type": "execute_result",
          "data": {
            "text/html": [
              "<div>\n",
              "<style scoped>\n",
              "    .dataframe tbody tr th:only-of-type {\n",
              "        vertical-align: middle;\n",
              "    }\n",
              "\n",
              "    .dataframe tbody tr th {\n",
              "        vertical-align: top;\n",
              "    }\n",
              "\n",
              "    .dataframe thead th {\n",
              "        text-align: right;\n",
              "    }\n",
              "</style>\n",
              "<table border=\"1\" class=\"dataframe\">\n",
              "  <thead>\n",
              "    <tr style=\"text-align: right;\">\n",
              "      <th></th>\n",
              "      <th>PassengerId</th>\n",
              "      <th>Survived</th>\n",
              "      <th>Pclass</th>\n",
              "      <th>Name</th>\n",
              "      <th>Sex</th>\n",
              "      <th>Age</th>\n",
              "      <th>Fare</th>\n",
              "      <th>Embarked</th>\n",
              "      <th>FamilySize</th>\n",
              "      <th>Title</th>\n",
              "      <th>Sex_Code</th>\n",
              "      <th>Embarked_C</th>\n",
              "      <th>Embarked_Q</th>\n",
              "      <th>Embarked_S</th>\n",
              "    </tr>\n",
              "  </thead>\n",
              "  <tbody>\n",
              "    <tr>\n",
              "      <th>0</th>\n",
              "      <td>1</td>\n",
              "      <td>0</td>\n",
              "      <td>3</td>\n",
              "      <td>Braund, Mr. Owen Harris</td>\n",
              "      <td>male</td>\n",
              "      <td>22.0</td>\n",
              "      <td>7.2500</td>\n",
              "      <td>S</td>\n",
              "      <td>2</td>\n",
              "      <td>Mr.</td>\n",
              "      <td>1</td>\n",
              "      <td>0</td>\n",
              "      <td>0</td>\n",
              "      <td>1</td>\n",
              "    </tr>\n",
              "    <tr>\n",
              "      <th>1</th>\n",
              "      <td>2</td>\n",
              "      <td>1</td>\n",
              "      <td>1</td>\n",
              "      <td>Cumings, Mrs. John Bradley (Florence Briggs Th...</td>\n",
              "      <td>female</td>\n",
              "      <td>38.0</td>\n",
              "      <td>71.2833</td>\n",
              "      <td>C</td>\n",
              "      <td>2</td>\n",
              "      <td>Mrs.</td>\n",
              "      <td>0</td>\n",
              "      <td>1</td>\n",
              "      <td>0</td>\n",
              "      <td>0</td>\n",
              "    </tr>\n",
              "    <tr>\n",
              "      <th>2</th>\n",
              "      <td>3</td>\n",
              "      <td>1</td>\n",
              "      <td>3</td>\n",
              "      <td>Heikkinen, Miss. Laina</td>\n",
              "      <td>female</td>\n",
              "      <td>26.0</td>\n",
              "      <td>7.9250</td>\n",
              "      <td>S</td>\n",
              "      <td>1</td>\n",
              "      <td>Miss.</td>\n",
              "      <td>0</td>\n",
              "      <td>0</td>\n",
              "      <td>0</td>\n",
              "      <td>1</td>\n",
              "    </tr>\n",
              "    <tr>\n",
              "      <th>3</th>\n",
              "      <td>4</td>\n",
              "      <td>1</td>\n",
              "      <td>1</td>\n",
              "      <td>Futrelle, Mrs. Jacques Heath (Lily May Peel)</td>\n",
              "      <td>female</td>\n",
              "      <td>35.0</td>\n",
              "      <td>53.1000</td>\n",
              "      <td>S</td>\n",
              "      <td>2</td>\n",
              "      <td>Mrs.</td>\n",
              "      <td>0</td>\n",
              "      <td>0</td>\n",
              "      <td>0</td>\n",
              "      <td>1</td>\n",
              "    </tr>\n",
              "    <tr>\n",
              "      <th>4</th>\n",
              "      <td>5</td>\n",
              "      <td>0</td>\n",
              "      <td>3</td>\n",
              "      <td>Allen, Mr. William Henry</td>\n",
              "      <td>male</td>\n",
              "      <td>35.0</td>\n",
              "      <td>8.0500</td>\n",
              "      <td>S</td>\n",
              "      <td>1</td>\n",
              "      <td>Mr.</td>\n",
              "      <td>1</td>\n",
              "      <td>0</td>\n",
              "      <td>0</td>\n",
              "      <td>1</td>\n",
              "    </tr>\n",
              "  </tbody>\n",
              "</table>\n",
              "</div>"
            ],
            "text/plain": [
              "   PassengerId  Survived  Pclass  ... Embarked_C Embarked_Q  Embarked_S\n",
              "0            1         0       3  ...          0          0           1\n",
              "1            2         1       1  ...          1          0           0\n",
              "2            3         1       3  ...          0          0           1\n",
              "3            4         1       1  ...          0          0           1\n",
              "4            5         0       3  ...          0          0           1\n",
              "\n",
              "[5 rows x 14 columns]"
            ]
          },
          "metadata": {
            "tags": []
          },
          "execution_count": 94
        }
      ]
    },
    {
      "cell_type": "code",
      "metadata": {
        "id": "7qZrlV7otKT4",
        "colab_type": "code",
        "colab": {
          "base_uri": "https://localhost:8080/",
          "height": 204
        },
        "outputId": "59f1d70c-a6f2-4179-c2e1-5eeab83e54c5"
      },
      "source": [
        "train = train.drop([\"Embarked\", \"Name\", \"Title\", \"PassengerId\", \"Fare\", \"Sex\"], axis=1)\n",
        "train.head()"
      ],
      "execution_count": 95,
      "outputs": [
        {
          "output_type": "execute_result",
          "data": {
            "text/html": [
              "<div>\n",
              "<style scoped>\n",
              "    .dataframe tbody tr th:only-of-type {\n",
              "        vertical-align: middle;\n",
              "    }\n",
              "\n",
              "    .dataframe tbody tr th {\n",
              "        vertical-align: top;\n",
              "    }\n",
              "\n",
              "    .dataframe thead th {\n",
              "        text-align: right;\n",
              "    }\n",
              "</style>\n",
              "<table border=\"1\" class=\"dataframe\">\n",
              "  <thead>\n",
              "    <tr style=\"text-align: right;\">\n",
              "      <th></th>\n",
              "      <th>Survived</th>\n",
              "      <th>Pclass</th>\n",
              "      <th>Age</th>\n",
              "      <th>FamilySize</th>\n",
              "      <th>Sex_Code</th>\n",
              "      <th>Embarked_C</th>\n",
              "      <th>Embarked_Q</th>\n",
              "      <th>Embarked_S</th>\n",
              "    </tr>\n",
              "  </thead>\n",
              "  <tbody>\n",
              "    <tr>\n",
              "      <th>0</th>\n",
              "      <td>0</td>\n",
              "      <td>3</td>\n",
              "      <td>22.0</td>\n",
              "      <td>2</td>\n",
              "      <td>1</td>\n",
              "      <td>0</td>\n",
              "      <td>0</td>\n",
              "      <td>1</td>\n",
              "    </tr>\n",
              "    <tr>\n",
              "      <th>1</th>\n",
              "      <td>1</td>\n",
              "      <td>1</td>\n",
              "      <td>38.0</td>\n",
              "      <td>2</td>\n",
              "      <td>0</td>\n",
              "      <td>1</td>\n",
              "      <td>0</td>\n",
              "      <td>0</td>\n",
              "    </tr>\n",
              "    <tr>\n",
              "      <th>2</th>\n",
              "      <td>1</td>\n",
              "      <td>3</td>\n",
              "      <td>26.0</td>\n",
              "      <td>1</td>\n",
              "      <td>0</td>\n",
              "      <td>0</td>\n",
              "      <td>0</td>\n",
              "      <td>1</td>\n",
              "    </tr>\n",
              "    <tr>\n",
              "      <th>3</th>\n",
              "      <td>1</td>\n",
              "      <td>1</td>\n",
              "      <td>35.0</td>\n",
              "      <td>2</td>\n",
              "      <td>0</td>\n",
              "      <td>0</td>\n",
              "      <td>0</td>\n",
              "      <td>1</td>\n",
              "    </tr>\n",
              "    <tr>\n",
              "      <th>4</th>\n",
              "      <td>0</td>\n",
              "      <td>3</td>\n",
              "      <td>35.0</td>\n",
              "      <td>1</td>\n",
              "      <td>1</td>\n",
              "      <td>0</td>\n",
              "      <td>0</td>\n",
              "      <td>1</td>\n",
              "    </tr>\n",
              "  </tbody>\n",
              "</table>\n",
              "</div>"
            ],
            "text/plain": [
              "   Survived  Pclass   Age  ...  Embarked_C  Embarked_Q  Embarked_S\n",
              "0         0       3  22.0  ...           0           0           1\n",
              "1         1       1  38.0  ...           1           0           0\n",
              "2         1       3  26.0  ...           0           0           1\n",
              "3         1       1  35.0  ...           0           0           1\n",
              "4         0       3  35.0  ...           0           0           1\n",
              "\n",
              "[5 rows x 8 columns]"
            ]
          },
          "metadata": {
            "tags": []
          },
          "execution_count": 95
        }
      ]
    },
    {
      "cell_type": "markdown",
      "metadata": {
        "colab_type": "text",
        "id": "QfVoUJNEWrUb"
      },
      "source": [
        "# Classificação"
      ]
    },
    {
      "cell_type": "markdown",
      "metadata": {
        "colab_type": "text",
        "id": "OfhRefL9imm1"
      },
      "source": [
        "## Normalização"
      ]
    },
    {
      "cell_type": "code",
      "metadata": {
        "colab_type": "code",
        "id": "tM5VPD_6Z5OZ",
        "colab": {}
      },
      "source": [
        "df_train_X = pd.DataFrame(train).drop([\"Survived\"], axis=1)\n",
        "df_train_y = df_train[\"Survived\"]"
      ],
      "execution_count": 0,
      "outputs": []
    },
    {
      "cell_type": "code",
      "metadata": {
        "colab_type": "code",
        "id": "ytmrfeMOWvQP",
        "colab": {}
      },
      "source": [
        "from sklearn.preprocessing import MinMaxScaler\n",
        "scaler = MinMaxScaler()\n",
        "# Scale on full dataset to avoid train and test to be scaled differently\n",
        "scaler.fit(train.drop([\"Survived\"], axis=1))\n",
        "scaled_train = scaler.transform(df_train_X)\n",
        "X = scaled_train\n",
        "y = df_train_y.tolist()\n",
        "\n",
        "X_train, X_test, y_train, y_test = train_test_split(X, y, test_size=0.33, random_state=42)"
      ],
      "execution_count": 0,
      "outputs": []
    },
    {
      "cell_type": "markdown",
      "metadata": {
        "colab_type": "text",
        "id": "c6R9L3sTioc0"
      },
      "source": [
        "## k-Nearest Neighbors"
      ]
    },
    {
      "cell_type": "code",
      "metadata": {
        "colab_type": "code",
        "id": "exGnCYJkYkGb",
        "colab": {}
      },
      "source": [
        "from sklearn.neighbors import KNeighborsClassifier\n",
        "from sklearn.model_selection import cross_val_score\n",
        "\n",
        "# Test best k\n",
        "knn_cross_val_accuracies = {}\n",
        "for k in range(1, 25):\n",
        "    knn_clf = KNeighborsClassifier(n_neighbors=k)\n",
        "    knn_cv_scores = cross_val_score(knn_clf, X, y, cv=5)\n",
        "    knn_cross_val_accuracies[k] = np.mean(knn_cv_scores)"
      ],
      "execution_count": 0,
      "outputs": []
    },
    {
      "cell_type": "code",
      "metadata": {
        "colab_type": "code",
        "id": "2UBMdC5tmI_k",
        "outputId": "e0033fa2-e90f-480e-e209-e20da8fe5002",
        "colab": {
          "base_uri": "https://localhost:8080/",
          "height": 317
        }
      },
      "source": [
        "plt.plot(list(knn_cross_val_accuracies.keys()), list(knn_cross_val_accuracies.values()), label='Cross validation')\n",
        "plt.xlabel(\"Vizinhos\")\n",
        "plt.ylabel(\"Acurácia\")\n",
        "plt.show()\n",
        "\n",
        "print(\"Melhor acurácia:\", max(knn_cross_val_accuracies.values()))\n",
        "print(\"Os melhores valores de K foram:\", [key  for (key, value) in knn_cross_val_accuracies.items() if value == max(knn_cross_val_accuracies.values())])\n"
      ],
      "execution_count": 100,
      "outputs": [
        {
          "output_type": "display_data",
          "data": {
            "image/png": "[encoded data removed]",
            "text/plain": [
              "<Figure size 432x288 with 1 Axes>"
            ]
          },
          "metadata": {
            "tags": []
          }
        },
        {
          "output_type": "stream",
          "text": [
            "Melhor acurácia: 0.8103613145248204\n",
            "Os melhores valores de K foram: [10]\n"
          ],
          "name": "stdout"
        }
      ]
    },
    {
      "cell_type": "markdown",
      "metadata": {
        "colab_type": "text",
        "id": "VtBFarYLf_UH"
      },
      "source": [
        "Há pouca discrepância entre os melhores valores de k. Como não há grande impacto computacional em escolher um K maior, escolhe-se 10 como o número de vizinhos a se considerar."
      ]
    },
    {
      "cell_type": "code",
      "metadata": {
        "id": "yk9Le5a76909",
        "colab_type": "code",
        "colab": {
          "base_uri": "https://localhost:8080/",
          "height": 432
        },
        "outputId": "386a3281-83d5-465d-81f0-d65c1fa6f62e"
      },
      "source": [
        "from sklearn.metrics import classification_report\n",
        "from sklearn.metrics import confusion_matrix\n",
        "\n",
        "knn_clf = KNeighborsClassifier(n_neighbors=10)\n",
        "knn_clf.fit(X_train, y_train)\n",
        "\n",
        "y_pred = knn_clf.predict(X_test)\n",
        "\n",
        "cm = confusion_matrix(y_test, y_pred, labels=None)\n",
        "\n",
        "df_cm = pd.DataFrame(cm, range(2), range(2))\n",
        "\n",
        "sns.set(font_scale=1.4)#for label size\n",
        "sns.heatmap(df_cm, annot=True,annot_kws={\"size\": 16})# font size\n",
        "plt.show()\n",
        "\n",
        "print(classification_report(y_test, y_pred, target_names=[\"Morto\", \"Vivo\"]))"
      ],
      "execution_count": 171,
      "outputs": [
        {
          "output_type": "display_data",
          "data": {
            "image/png": "[encoded data removed]",
            "text/plain": [
              "<Figure size 432x288 with 2 Axes>"
            ]
          },
          "metadata": {
            "tags": []
          }
        },
        {
          "output_type": "stream",
          "text": [
            "              precision    recall  f1-score   support\n",
            "\n",
            "       Morto       0.79      0.92      0.85       175\n",
            "        Vivo       0.84      0.63      0.72       120\n",
            "\n",
            "    accuracy                           0.80       295\n",
            "   macro avg       0.81      0.78      0.79       295\n",
            "weighted avg       0.81      0.80      0.80       295\n",
            "\n"
          ],
          "name": "stdout"
        }
      ]
    },
    {
      "cell_type": "markdown",
      "metadata": {
        "colab_type": "text",
        "id": "XzD8LkP4ixLl"
      },
      "source": [
        "## Naive Bayes"
      ]
    },
    {
      "cell_type": "code",
      "metadata": {
        "colab_type": "code",
        "id": "H3OC6vNoekGI",
        "outputId": "17154961-8664-43d5-bb82-5c3175a6a7ed",
        "colab": {
          "base_uri": "https://localhost:8080/",
          "height": 449
        }
      },
      "source": [
        "from sklearn.naive_bayes import GaussianNB\n",
        "gnb = GaussianNB()\n",
        "\n",
        "print(\"Acurácia do Naive Bayes:\", np.mean(cross_val_score(gnb, X, y, cv=5)))\n",
        "\n",
        "gnb = gnb.fit(X_train, y_train)\n",
        "\n",
        "y_pred = gnb.predict(X_test)\n",
        "\n",
        "cm = confusion_matrix(y_test, y_pred, labels=None)\n",
        "\n",
        "df_cm = pd.DataFrame(cm, range(2), range(2))\n",
        "\n",
        "sns.set(font_scale=1.4)#for label size\n",
        "sns.heatmap(df_cm, annot=True,annot_kws={\"size\": 16})# font size\n",
        "plt.show()\n",
        "\n",
        "print(classification_report(y_test, y_pred, target_names=[\"Morto\", \"Vivo\"]))"
      ],
      "execution_count": 172,
      "outputs": [
        {
          "output_type": "stream",
          "text": [
            "Acurácia do Naive Bayes: 0.7789945836334448\n"
          ],
          "name": "stdout"
        },
        {
          "output_type": "display_data",
          "data": {
            "image/png": "[encoded data removed]",
            "text/plain": [
              "<Figure size 432x288 with 2 Axes>"
            ]
          },
          "metadata": {
            "tags": []
          }
        },
        {
          "output_type": "stream",
          "text": [
            "              precision    recall  f1-score   support\n",
            "\n",
            "       Morto       0.82      0.75      0.79       175\n",
            "        Vivo       0.68      0.76      0.72       120\n",
            "\n",
            "    accuracy                           0.76       295\n",
            "   macro avg       0.75      0.76      0.75       295\n",
            "weighted avg       0.76      0.76      0.76       295\n",
            "\n"
          ],
          "name": "stdout"
        }
      ]
    },
    {
      "cell_type": "markdown",
      "metadata": {
        "id": "aNiKPlTXjkXf",
        "colab_type": "text"
      },
      "source": [
        "# Decision tree"
      ]
    },
    {
      "cell_type": "code",
      "metadata": {
        "id": "CxhB2paPjkXg",
        "colab_type": "code",
        "outputId": "3347f15a-6894-4451-c2bd-03c3ad009154",
        "colab": {
          "base_uri": "https://localhost:8080/",
          "height": 880
        }
      },
      "source": [
        "from sklearn.tree import DecisionTreeClassifier\n",
        "from sklearn.model_selection import RandomizedSearchCV\n",
        "from scipy.stats import randint\n",
        "from sklearn.externals.six import StringIO\n",
        "from IPython.display import Image\n",
        "import pydotplus\n",
        "\n",
        "clf_rs = DecisionTreeClassifier()\n",
        "param_dist = {\"criterion\": [\"gini\", \"entropy\"],\n",
        "                  \"min_samples_split\": randint(5, 20),\n",
        "                  \"max_depth\": [3],\n",
        "                  \"min_samples_leaf\": randint(10, 20),\n",
        "                  \"max_leaf_nodes\": randint(5, 20)}\n",
        "\n",
        "clf_rs = RandomizedSearchCV(clf_rs, \n",
        "                            param_distributions=param_dist,\n",
        "                            n_iter=5)\n",
        "\n",
        "clf_rs.fit(X_train, y_train)\n",
        "\n",
        "print(\"\\nParâmetros e índices do melhor estimador encontrado:\")\n",
        "print(clf_rs.best_params_)\n",
        "print(clf_rs.best_estimator_)\n",
        "\n",
        "print(\"\\nÍndices para todos os testes realizados pela RandomizedSearchCV():\")\n",
        "means = clf_rs.cv_results_['mean_test_score']\n",
        "stds = clf_rs.cv_results_['std_test_score']\n",
        "for mean, std, params in zip(means, stds, clf_rs.cv_results_['params']):\n",
        "    print(\"%0.3f (+/-%0.03f) for %r\"\n",
        "              % (mean, std * 2, params))\n",
        "   \n",
        "out = StringIO()\n",
        "tree.export_graphviz(clf_rs.best_estimator_, out_file=out, class_names=[\"Morto\", \"Vivo\"], filled=True, rounded=True, special_characters=True)\n",
        "graph=pydotplus.graph_from_dot_data(out.getvalue())\n",
        "Image(graph.create_png())\n",
        "with open('irisDT-RS.png', 'wb') as f:\n",
        "    f.write(graph.create_png())    \n",
        "Image(\"irisDT-RS.png\") "
      ],
      "execution_count": 173,
      "outputs": [
        {
          "output_type": "stream",
          "text": [
            "\n",
            "Parâmetros e índices do melhor estimador encontrado:\n",
            "{'criterion': 'entropy', 'max_depth': 3, 'max_leaf_nodes': 19, 'min_samples_leaf': 13, 'min_samples_split': 10}\n",
            "DecisionTreeClassifier(class_weight=None, criterion='entropy', max_depth=3,\n",
            "                       max_features=None, max_leaf_nodes=19,\n",
            "                       min_impurity_decrease=0.0, min_impurity_split=None,\n",
            "                       min_samples_leaf=13, min_samples_split=10,\n",
            "                       min_weight_fraction_leaf=0.0, presort=False,\n",
            "                       random_state=None, splitter='best')\n",
            "\n",
            "Índices para todos os testes realizados pela RandomizedSearchCV():\n",
            "0.819 (+/-0.037) for {'criterion': 'entropy', 'max_depth': 3, 'max_leaf_nodes': 19, 'min_samples_leaf': 13, 'min_samples_split': 10}\n",
            "0.812 (+/-0.026) for {'criterion': 'gini', 'max_depth': 3, 'max_leaf_nodes': 10, 'min_samples_leaf': 17, 'min_samples_split': 14}\n",
            "0.819 (+/-0.037) for {'criterion': 'gini', 'max_depth': 3, 'max_leaf_nodes': 14, 'min_samples_leaf': 15, 'min_samples_split': 16}\n",
            "0.812 (+/-0.026) for {'criterion': 'gini', 'max_depth': 3, 'max_leaf_nodes': 19, 'min_samples_leaf': 18, 'min_samples_split': 10}\n",
            "0.817 (+/-0.034) for {'criterion': 'entropy', 'max_depth': 3, 'max_leaf_nodes': 17, 'min_samples_leaf': 10, 'min_samples_split': 15}\n"
          ],
          "name": "stdout"
        },
        {
          "output_type": "stream",
          "text": [
            "/usr/local/lib/python3.6/dist-packages/sklearn/model_selection/_split.py:1978: FutureWarning: The default value of cv will change from 3 to 5 in version 0.22. Specify it explicitly to silence this warning.\n",
            "  warnings.warn(CV_WARNING, FutureWarning)\n"
          ],
          "name": "stderr"
        },
        {
          "output_type": "execute_result",
          "data": {
            "image/png": "[encoded data removed]",
            "text/plain": [
              "<IPython.core.display.Image object>"
            ]
          },
          "metadata": {
            "tags": []
          },
          "execution_count": 173
        }
      ]
    },
    {
      "cell_type": "markdown",
      "metadata": {
        "id": "jA-ic39q4VC8",
        "colab_type": "text"
      },
      "source": [
        "Dentre os parâmetros testados (alguns manualmente, alguns via RandomizedSearch), conclui-se que os parâmetros mais importantes são max_depth 3 e min_samples_leaf entre 10 e 20."
      ]
    },
    {
      "cell_type": "code",
      "metadata": {
        "id": "e5KUVcyyv8wN",
        "colab_type": "code",
        "colab": {
          "base_uri": "https://localhost:8080/",
          "height": 449
        },
        "outputId": "55407701-8f2c-4dac-c7c4-eea1089fe315"
      },
      "source": [
        "dtc = clf_rs.best_estimator_\n",
        "print(\"Acurácia da arvore de decisão:\", np.mean(cross_val_score(dtc, scaled_train, df_train_y.tolist(), cv=5)))\n",
        "\n",
        "dtc = dtc.fit(X_train, y_train)\n",
        "\n",
        "y_pred = dtc.predict(X_test)\n",
        "\n",
        "cm = confusion_matrix(y_test, y_pred, labels=None)\n",
        "\n",
        "df_cm = pd.DataFrame(cm, range(2), range(2))\n",
        "\n",
        "sns.set(font_scale=1.4)#for label size\n",
        "sns.heatmap(df_cm, annot=True,annot_kws={\"size\": 16})# font size\n",
        "plt.show()\n",
        "\n",
        "print(classification_report(y_test, y_pred, target_names=[\"Morto\", \"Vivo\"]))"
      ],
      "execution_count": 174,
      "outputs": [
        {
          "output_type": "stream",
          "text": [
            "Acurácia da arvore de decisão: 0.8047368471448376\n"
          ],
          "name": "stdout"
        },
        {
          "output_type": "display_data",
          "data": {
            "image/png": "[encoded data removed]",
            "text/plain": [
              "<Figure size 432x288 with 2 Axes>"
            ]
          },
          "metadata": {
            "tags": []
          }
        },
        {
          "output_type": "stream",
          "text": [
            "              precision    recall  f1-score   support\n",
            "\n",
            "       Morto       0.82      0.89      0.85       175\n",
            "        Vivo       0.82      0.72      0.76       120\n",
            "\n",
            "    accuracy                           0.82       295\n",
            "   macro avg       0.82      0.80      0.81       295\n",
            "weighted avg       0.82      0.82      0.82       295\n",
            "\n"
          ],
          "name": "stdout"
        }
      ]
    },
    {
      "cell_type": "markdown",
      "metadata": {
        "id": "7UkpULf-jkXJ",
        "colab_type": "text"
      },
      "source": [
        "# Random Forest"
      ]
    },
    {
      "cell_type": "code",
      "metadata": {
        "id": "oswkqKf6jkXb",
        "colab_type": "code",
        "outputId": "0dca1fa5-951e-4a2f-d129-4f80bc2fb412",
        "colab": {
          "base_uri": "https://localhost:8080/",
          "height": 449
        }
      },
      "source": [
        "from sklearn.ensemble import RandomForestClassifier\n",
        "\n",
        "# Usando os mesmos parâmetros escolhidos para o Decision Tree\n",
        "rfc = RandomForestClassifier(n_estimators=100, max_depth=3, min_samples_leaf=15, random_state=0)\n",
        "\n",
        "print(\"Acurácia do Random forest:\", np.mean(cross_val_score(rfc, X, y, cv=5)))\n",
        "\n",
        "rfc = rfc.fit(X_train, y_train)\n",
        "\n",
        "y_pred = rfc.predict(X_test)\n",
        "\n",
        "cm = confusion_matrix(y_test, y_pred, labels=None)\n",
        "\n",
        "df_cm = pd.DataFrame(cm, range(2), range(2))\n",
        "\n",
        "sns.set(font_scale=1.4)#for label size\n",
        "sns.heatmap(df_cm, annot=True,annot_kws={\"size\": 16})# font size\n",
        "plt.show()\n",
        "\n",
        "print(classification_report(y_test, y_pred, target_names=[\"Morto\", \"Vivo\"]))"
      ],
      "execution_count": 175,
      "outputs": [
        {
          "output_type": "stream",
          "text": [
            "Acurácia do Random forest: 0.8147991319911752\n"
          ],
          "name": "stdout"
        },
        {
          "output_type": "display_data",
          "data": {
            "image/png": "[encoded data removed]",
            "text/plain": [
              "<Figure size 432x288 with 2 Axes>"
            ]
          },
          "metadata": {
            "tags": []
          }
        },
        {
          "output_type": "stream",
          "text": [
            "              precision    recall  f1-score   support\n",
            "\n",
            "       Morto       0.78      0.94      0.85       175\n",
            "        Vivo       0.87      0.61      0.72       120\n",
            "\n",
            "    accuracy                           0.80       295\n",
            "   macro avg       0.82      0.77      0.78       295\n",
            "weighted avg       0.81      0.80      0.80       295\n",
            "\n"
          ],
          "name": "stdout"
        }
      ]
    }
  ]
}